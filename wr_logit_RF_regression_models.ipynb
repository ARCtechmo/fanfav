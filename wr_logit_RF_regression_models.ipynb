{
 "cells": [
  {
   "cell_type": "code",
   "execution_count": 1,
   "id": "207224fc-7cea-4eee-b051-17e1fed63e2b",
   "metadata": {},
   "outputs": [],
   "source": [
    "# logistic regression classification modeling"
   ]
  },
  {
   "cell_type": "code",
   "execution_count": 2,
   "id": "3e48ba7f-3a4d-4493-aedc-c6b8ef388528",
   "metadata": {},
   "outputs": [],
   "source": [
    "## ** INPUT REQUIRED **\n",
    "# add filtering option for backtest or live predictions"
   ]
  },
  {
   "cell_type": "code",
   "execution_count": null,
   "id": "da6d314e-7d7d-44e1-95ff-03200ab828a2",
   "metadata": {},
   "outputs": [],
   "source": []
  },
  {
   "cell_type": "code",
   "execution_count": 3,
   "id": "50af18d3-67bb-4368-b7ee-7ba067cca457",
   "metadata": {},
   "outputs": [
    {
     "name": "stdout",
     "output_type": "stream",
     "text": [
      "Requirement already satisfied: fpdf in /home/rashawn/anaconda3/lib/python3.11/site-packages (1.7.2)\n"
     ]
    }
   ],
   "source": [
    "# installations\n",
    "!pip install fpdf\n"
   ]
  },
  {
   "cell_type": "code",
   "execution_count": null,
   "id": "35d92fac-df57-40c5-a3f1-974ddd7f444c",
   "metadata": {},
   "outputs": [],
   "source": []
  },
  {
   "cell_type": "code",
   "execution_count": 4,
   "id": "f991fce9-8d29-4a10-a191-2adafc08a396",
   "metadata": {},
   "outputs": [],
   "source": [
    "import pandas as pd\n",
    "import numpy as np\n",
    "\n",
    "from sklearn.linear_model import LogisticRegression\n",
    "from sklearn.model_selection import train_test_split, GridSearchCV\n",
    "from sklearn.metrics import (\n",
    "    accuracy_score, precision_score, recall_score, f1_score,\n",
    "    roc_auc_score, roc_curve, confusion_matrix, classification_report\n",
    ")\n",
    "from sklearn.preprocessing import StandardScaler\n",
    "import matplotlib.pyplot as plt\n",
    "import seaborn as sns\n",
    "import statsmodels.api as sm\n",
    "\n",
    "from scipy.stats import normaltest\n",
    "\n",
    "from fpdf import FPDF\n",
    "from datetime import datetime\n",
    "import re"
   ]
  },
  {
   "cell_type": "code",
   "execution_count": null,
   "id": "aba76926-8514-4148-aba3-40cba938a20b",
   "metadata": {},
   "outputs": [],
   "source": []
  },
  {
   "cell_type": "code",
   "execution_count": 5,
   "id": "722c38cc-8141-4f30-b79b-386a38725396",
   "metadata": {},
   "outputs": [],
   "source": [
    "# Load the raw dataset\n",
    "wr_df_raw = pd.read_csv(\"wr_df_stats_features_imputations.csv\")"
   ]
  },
  {
   "cell_type": "code",
   "execution_count": null,
   "id": "e8cb9391-351f-47d0-8fd7-f250383772b6",
   "metadata": {},
   "outputs": [],
   "source": []
  },
  {
   "cell_type": "code",
   "execution_count": 6,
   "id": "25d36271-2b01-4f46-882c-3252ea5c2fd8",
   "metadata": {},
   "outputs": [],
   "source": [
    "# Create working copy\n",
    "wr_df = wr_df_raw.copy()"
   ]
  },
  {
   "cell_type": "code",
   "execution_count": null,
   "id": "8cf9d393-b3e8-459b-880c-d2be8bcdd955",
   "metadata": {},
   "outputs": [],
   "source": []
  },
  {
   "cell_type": "code",
   "execution_count": 7,
   "id": "2913e098-aea8-49eb-9b2a-883cb5ef4514",
   "metadata": {},
   "outputs": [
    {
     "name": "stdout",
     "output_type": "stream",
     "text": [
      "🔍 Value Counts:\n",
      "hit_value_dk\n",
      "False    11026\n",
      "True      6423\n",
      "Name: count, dtype: int64\n",
      "\n",
      "🔍 Data Type: bool\n",
      "❓ Missing Values: 0\n",
      "\n",
      "✅ Proportion of hits (1's): 36.81%\n"
     ]
    }
   ],
   "source": [
    "# --- Inspect the hit_value_dk target column --- #\n",
    "print(\"🔍 Value Counts:\")\n",
    "print(wr_df[\"hit_value_dk\"].value_counts(dropna=False))\n",
    "\n",
    "print(\"\\n🔍 Data Type:\", wr_df[\"hit_value_dk\"].dtype)\n",
    "print(\"❓ Missing Values:\", wr_df[\"hit_value_dk\"].isnull().sum())\n",
    "\n",
    "proportion = wr_df[\"hit_value_dk\"].mean()\n",
    "print(f\"\\n✅ Proportion of hits (1's): {proportion:.2%}\")"
   ]
  },
  {
   "cell_type": "code",
   "execution_count": null,
   "id": "be0dca75-455f-4d0b-a9d0-4b418975c998",
   "metadata": {},
   "outputs": [],
   "source": []
  },
  {
   "cell_type": "code",
   "execution_count": 8,
   "id": "ad9144ea-4091-43ff-8c5d-8a34b907e626",
   "metadata": {},
   "outputs": [],
   "source": [
    "# Option 1: modify the dataframe to filter players with targets and receptions per season\n",
    "\n",
    "# Calculate season totals\n",
    "season_totals = (\n",
    "    wr_df.groupby([\"player_display_name\", \"season\"])[[\"targets\", \"receptions\"]]\n",
    "    .sum()\n",
    "    .reset_index()\n",
    ")\n",
    "\n",
    "# Keep player-seasons with at least 5 total targets or receptions\n",
    "valid_ids = season_totals[\n",
    "    (season_totals[\"targets\"] >= 5) | (season_totals[\"receptions\"] >= 5)\n",
    "][[\"player_display_name\", \"season\"]]\n",
    "\n",
    "# Merge to filter wr_df\n",
    "wr_df = wr_df.merge(valid_ids, on=[\"player_display_name\", \"season\"], how=\"inner\")\n"
   ]
  },
  {
   "cell_type": "code",
   "execution_count": null,
   "id": "2fed2d6f-b499-4651-8eb2-1cae27f66a42",
   "metadata": {},
   "outputs": [],
   "source": []
  },
  {
   "cell_type": "code",
   "execution_count": 9,
   "id": "945a46ff-b1f1-4594-b699-4ba2f020f485",
   "metadata": {},
   "outputs": [],
   "source": [
    "# Option 2: modify the dataframe to filter players with targets and receptions per game\n",
    "# min_tgts = 1\n",
    "# min_rec = 1\n",
    "# wr_df = wr_df[(wr_df[\"targets\"] >= min_tgts) | (wr_df[\"receptions\"] >= min_rec)].copy()\n"
   ]
  },
  {
   "cell_type": "code",
   "execution_count": null,
   "id": "04251792-4a0e-422e-b726-ef79c7e99adc",
   "metadata": {},
   "outputs": [],
   "source": []
  },
  {
   "cell_type": "code",
   "execution_count": 10,
   "id": "867c675d-4f03-402b-89a8-da1ddfc6a54a",
   "metadata": {},
   "outputs": [],
   "source": [
    "# helper function - \n",
    "# -test normality\n",
    "# -search for corresponding z-score and is_missing column\n",
    "# -recommend using base feature or z-scored feature\n",
    "\n",
    "def evaluate_feature_for_zscore(features, alpha=0.05):\n",
    "    if isinstance(features, str):\n",
    "        features = [features]\n",
    "    elif isinstance(features, dict):\n",
    "        features = list(features.values())\n",
    "\n",
    "    results = []\n",
    "\n",
    "    for base_feature in features:\n",
    "        print(f\"🔍 Evaluating feature: {base_feature}\")\n",
    "\n",
    "        # Normality test\n",
    "        data = wr_df[base_feature].dropna()\n",
    "        stat, p = normaltest(data)\n",
    "        is_normal = p > alpha\n",
    "        print(f\" - Normality test p-value: {p:.4f} → {'✅ Probably normal' if is_normal else '❌ Not normal'}\")\n",
    "\n",
    "        # Z-score and missing flag checks\n",
    "        z_feature = f\"{base_feature}_z\"\n",
    "        base_flag = f\"is_missing_{base_feature}\"\n",
    "        z_flag = f\"is_missing_{z_feature}\"\n",
    "\n",
    "        has_z = z_feature in wr_df.columns\n",
    "        has_base_flag = base_flag in wr_df.columns\n",
    "        has_z_flag = z_flag in wr_df.columns\n",
    "\n",
    "        print(f\" - Z-score version: {'✅ Found' if has_z else '❌ Not found'}\")\n",
    "        print(f\" - Missing flag for base: {base_flag if has_base_flag else '❌ Not found'}\")\n",
    "        print(f\" - Missing flag for z: {z_flag if has_z_flag else '❌ Not found'}\")\n",
    "\n",
    "        if is_normal and has_z:\n",
    "            recommendation = f\"✅ Use Z-score version: {z_feature}\"\n",
    "            recommended_feature = z_feature\n",
    "            flag_used = z_flag if has_z_flag else None\n",
    "        else:\n",
    "            recommendation = f\"✅ Use Base version: {base_feature}\"\n",
    "            recommended_feature = base_feature\n",
    "            flag_used = base_flag if has_base_flag else None\n",
    "\n",
    "        print(f\"📌 Recommendation: {recommendation}\")\n",
    "        if flag_used:\n",
    "            print(f\"⚠️  Include missingness flag: {flag_used}\")\n",
    "        print(\"-\" * 60)\n",
    "\n",
    "        results.append({\n",
    "            \"base_feature\": base_feature,\n",
    "            \"use_z\": is_normal and has_z,\n",
    "            \"recommended_feature\": recommended_feature,\n",
    "            \"missing_flag\": flag_used\n",
    "        })\n",
    "\n",
    "    return results\n"
   ]
  },
  {
   "cell_type": "code",
   "execution_count": null,
   "id": "46018bde-ee75-4ea7-ab02-e924969001b0",
   "metadata": {},
   "outputs": [],
   "source": []
  },
  {
   "cell_type": "code",
   "execution_count": 11,
   "id": "104679e3-f170-4a2f-a8da-38bbc35aa2db",
   "metadata": {},
   "outputs": [
    {
     "name": "stdout",
     "output_type": "stream",
     "text": [
      "🔍 Evaluating feature: targets\n",
      " - Normality test p-value: 0.0000 → ❌ Not normal\n",
      " - Z-score version: ❌ Not found\n",
      " - Missing flag for base: ❌ Not found\n",
      " - Missing flag for z: ❌ Not found\n",
      "📌 Recommendation: ✅ Use Base version: targets\n",
      "------------------------------------------------------------\n",
      "🔍 Evaluating feature: receptions\n",
      " - Normality test p-value: 0.0000 → ❌ Not normal\n",
      " - Z-score version: ❌ Not found\n",
      " - Missing flag for base: ❌ Not found\n",
      " - Missing flag for z: ❌ Not found\n",
      "📌 Recommendation: ✅ Use Base version: receptions\n",
      "------------------------------------------------------------\n",
      "🔍 Evaluating feature: rolling_fpts_diff_dk\n",
      " - Normality test p-value: 0.0000 → ❌ Not normal\n",
      " - Z-score version: ❌ Not found\n",
      " - Missing flag for base: is_missing_rolling_fpts_diff_dk\n",
      " - Missing flag for z: ❌ Not found\n",
      "📌 Recommendation: ✅ Use Base version: rolling_fpts_diff_dk\n",
      "⚠️  Include missingness flag: is_missing_rolling_fpts_diff_dk\n",
      "------------------------------------------------------------\n",
      "🔍 Evaluating feature: value_ratio_dk_log\n",
      " - Normality test p-value: 0.0000 → ❌ Not normal\n",
      " - Z-score version: ✅ Found\n",
      " - Missing flag for base: ❌ Not found\n",
      " - Missing flag for z: is_missing_value_ratio_dk_log_z\n",
      "📌 Recommendation: ✅ Use Base version: value_ratio_dk_log\n",
      "------------------------------------------------------------\n"
     ]
    },
    {
     "data": {
      "text/plain": [
       "[{'base_feature': 'targets',\n",
       "  'use_z': False,\n",
       "  'recommended_feature': 'targets',\n",
       "  'missing_flag': None},\n",
       " {'base_feature': 'receptions',\n",
       "  'use_z': False,\n",
       "  'recommended_feature': 'receptions',\n",
       "  'missing_flag': None},\n",
       " {'base_feature': 'rolling_fpts_diff_dk',\n",
       "  'use_z': False,\n",
       "  'recommended_feature': 'rolling_fpts_diff_dk',\n",
       "  'missing_flag': 'is_missing_rolling_fpts_diff_dk'},\n",
       " {'base_feature': 'value_ratio_dk_log',\n",
       "  'use_z': False,\n",
       "  'recommended_feature': 'value_ratio_dk_log',\n",
       "  'missing_flag': None}]"
      ]
     },
     "execution_count": 11,
     "metadata": {},
     "output_type": "execute_result"
    }
   ],
   "source": [
    "# Match imputation flags to features  - \"is_missing\"\n",
    "# Note: the model needs to understand when we imputed so add the corresponding boolean column \n",
    "\n",
    "# Select Feature Columns\n",
    "features_base = [\n",
    "    \"targets\",\n",
    "    \"receptions\",\n",
    "    \"rolling_fpts_diff_dk\",\n",
    "    \"value_ratio_dk_log\",\n",
    "]\n",
    "\n",
    "evaluate_feature_for_zscore(features_base)"
   ]
  },
  {
   "cell_type": "code",
   "execution_count": null,
   "id": "308c3ab6-635e-4194-90c3-5103c2189049",
   "metadata": {},
   "outputs": [],
   "source": []
  },
  {
   "cell_type": "code",
   "execution_count": 12,
   "id": "9f255f45-9213-4d84-b872-47f9852e8ae7",
   "metadata": {},
   "outputs": [],
   "source": [
    "### *** EXTREMELY IMPORTANT *** ###\n",
    "# Ensures temporal calculations or rows are correct and no data leakage\n",
    "# predictions for row n computed from rows < n\n",
    "\n",
    "# Helper function to create a model-ready dataframe with proper lagging\n",
    "def create_modeling_dataframe(df, features_to_lag, group_cols=[\"player_display_name\", \"season\"]):\n",
    " \n",
    "    df_lagged = df.copy()\n",
    "    \n",
    "    for feature in features_to_lag:\n",
    "        if feature in df_lagged.columns:\n",
    "            df_lagged[feature] = (\n",
    "                df_lagged\n",
    "                .groupby(group_cols)[feature]\n",
    "                .shift(1)\n",
    "            )\n",
    "        else:\n",
    "            print(f\"⚠️ Feature '{feature}' not found in dataframe — skipping.\")\n",
    "    \n",
    "    return df_lagged"
   ]
  },
  {
   "cell_type": "code",
   "execution_count": null,
   "id": "d7008e12-344e-4de2-b3fa-77c56965f14d",
   "metadata": {},
   "outputs": [],
   "source": []
  },
  {
   "cell_type": "code",
   "execution_count": 13,
   "id": "c2c10042-1fcf-4725-8e51-cdb908250814",
   "metadata": {},
   "outputs": [],
   "source": [
    "# Generate the lagged modeling dataframe\n",
    "wr_model_df = create_modeling_dataframe(wr_df, features_base)"
   ]
  },
  {
   "cell_type": "code",
   "execution_count": null,
   "id": "8cef0b47-30a4-41d4-b7bc-1310b3ae9766",
   "metadata": {},
   "outputs": [],
   "source": []
  },
  {
   "cell_type": "code",
   "execution_count": 14,
   "id": "80fb8254-d617-418f-9da6-01d90fbad314",
   "metadata": {},
   "outputs": [],
   "source": [
    "## Important: define your target (y-variable) and predictor variables (features)\n",
    "# subset features from df into a temporary X variable\n",
    "X = wr_model_df[features_base].copy()\n",
    "y = wr_model_df[\"hit_value_dk\"].copy()\n"
   ]
  },
  {
   "cell_type": "code",
   "execution_count": null,
   "id": "f446bd35-3d97-4aaf-aafb-d1e6dcbe763c",
   "metadata": {},
   "outputs": [],
   "source": []
  },
  {
   "cell_type": "code",
   "execution_count": 15,
   "id": "24ab830a-7df9-4cfa-9e44-ab947494370e",
   "metadata": {},
   "outputs": [
    {
     "name": "stdout",
     "output_type": "stream",
     "text": [
      "Training samples:      11343\n",
      "Validation (2023):     2142\n",
      "Final Test (2024):     1954\n",
      "\n",
      "Class Distribution:\n",
      "Train:\n",
      " hit_value_dk\n",
      "False    61.52%\n",
      "True     38.48%\n",
      "Name: proportion, dtype: object\n",
      "Val:\n",
      " hit_value_dk\n",
      "False    63.49%\n",
      "True     36.51%\n",
      "Name: proportion, dtype: object\n",
      "Test:\n",
      " hit_value_dk\n",
      "False    63.56%\n",
      "True     36.44%\n",
      "Name: proportion, dtype: object\n"
     ]
    }
   ],
   "source": [
    "# setup the train-test split\n",
    "# train on seasons < 2023\n",
    "# validation on season 2023\n",
    "# final test on 2024\n",
    "\n",
    "# Mask for seasons (from wr_model_df!)\n",
    "mask_2024 = wr_model_df[\"season\"] == 2024\n",
    "mask_2023 = wr_model_df[\"season\"] == 2023\n",
    "mask_pre_2023 = wr_model_df[\"season\"] < 2023\n",
    "\n",
    "# Full null check mask\n",
    "mask_all_valid = X.notnull().all(axis=1) & y.notnull()\n",
    "\n",
    "# Training set: Pre-2023\n",
    "mask_train = mask_all_valid & mask_pre_2023\n",
    "X_train = X[mask_train]\n",
    "y_train = y[mask_train]\n",
    "\n",
    "# Validation set: 2023\n",
    "mask_val = mask_all_valid & mask_2023\n",
    "X_val = X[mask_val]\n",
    "y_val = y[mask_val]\n",
    "\n",
    "# Final test set: 2024\n",
    "mask_test = mask_all_valid & mask_2024\n",
    "X_test_final = X[mask_test]\n",
    "y_test_final = y[mask_test]\n",
    "\n",
    "# Summary\n",
    "print(f\"Training samples:      {len(X_train)}\")\n",
    "print(f\"Validation (2023):     {len(X_val)}\")\n",
    "print(f\"Final Test (2024):     {len(X_test_final)}\")\n",
    "\n",
    "print(\"\\nClass Distribution:\")\n",
    "print(\"Train:\\n\", y_train.value_counts(normalize=True).apply(lambda x: f\"{x:.2%}\"))\n",
    "print(\"Val:\\n\", y_val.value_counts(normalize=True).apply(lambda x: f\"{x:.2%}\"))\n",
    "print(\"Test:\\n\", y_test_final.value_counts(normalize=True).apply(lambda x: f\"{x:.2%}\"))\n"
   ]
  },
  {
   "cell_type": "code",
   "execution_count": null,
   "id": "6605e3dc-8fc9-40d7-bf95-a4160a7b2a2c",
   "metadata": {},
   "outputs": [],
   "source": []
  },
  {
   "cell_type": "code",
   "execution_count": 16,
   "id": "fbf73f75-1482-4746-9077-460cb77f1be4",
   "metadata": {},
   "outputs": [
    {
     "data": {
      "text/html": [
       "<style>#sk-container-id-1 {color: black;background-color: white;}#sk-container-id-1 pre{padding: 0;}#sk-container-id-1 div.sk-toggleable {background-color: white;}#sk-container-id-1 label.sk-toggleable__label {cursor: pointer;display: block;width: 100%;margin-bottom: 0;padding: 0.3em;box-sizing: border-box;text-align: center;}#sk-container-id-1 label.sk-toggleable__label-arrow:before {content: \"▸\";float: left;margin-right: 0.25em;color: #696969;}#sk-container-id-1 label.sk-toggleable__label-arrow:hover:before {color: black;}#sk-container-id-1 div.sk-estimator:hover label.sk-toggleable__label-arrow:before {color: black;}#sk-container-id-1 div.sk-toggleable__content {max-height: 0;max-width: 0;overflow: hidden;text-align: left;background-color: #f0f8ff;}#sk-container-id-1 div.sk-toggleable__content pre {margin: 0.2em;color: black;border-radius: 0.25em;background-color: #f0f8ff;}#sk-container-id-1 input.sk-toggleable__control:checked~div.sk-toggleable__content {max-height: 200px;max-width: 100%;overflow: auto;}#sk-container-id-1 input.sk-toggleable__control:checked~label.sk-toggleable__label-arrow:before {content: \"▾\";}#sk-container-id-1 div.sk-estimator input.sk-toggleable__control:checked~label.sk-toggleable__label {background-color: #d4ebff;}#sk-container-id-1 div.sk-label input.sk-toggleable__control:checked~label.sk-toggleable__label {background-color: #d4ebff;}#sk-container-id-1 input.sk-hidden--visually {border: 0;clip: rect(1px 1px 1px 1px);clip: rect(1px, 1px, 1px, 1px);height: 1px;margin: -1px;overflow: hidden;padding: 0;position: absolute;width: 1px;}#sk-container-id-1 div.sk-estimator {font-family: monospace;background-color: #f0f8ff;border: 1px dotted black;border-radius: 0.25em;box-sizing: border-box;margin-bottom: 0.5em;}#sk-container-id-1 div.sk-estimator:hover {background-color: #d4ebff;}#sk-container-id-1 div.sk-parallel-item::after {content: \"\";width: 100%;border-bottom: 1px solid gray;flex-grow: 1;}#sk-container-id-1 div.sk-label:hover label.sk-toggleable__label {background-color: #d4ebff;}#sk-container-id-1 div.sk-serial::before {content: \"\";position: absolute;border-left: 1px solid gray;box-sizing: border-box;top: 0;bottom: 0;left: 50%;z-index: 0;}#sk-container-id-1 div.sk-serial {display: flex;flex-direction: column;align-items: center;background-color: white;padding-right: 0.2em;padding-left: 0.2em;position: relative;}#sk-container-id-1 div.sk-item {position: relative;z-index: 1;}#sk-container-id-1 div.sk-parallel {display: flex;align-items: stretch;justify-content: center;background-color: white;position: relative;}#sk-container-id-1 div.sk-item::before, #sk-container-id-1 div.sk-parallel-item::before {content: \"\";position: absolute;border-left: 1px solid gray;box-sizing: border-box;top: 0;bottom: 0;left: 50%;z-index: -1;}#sk-container-id-1 div.sk-parallel-item {display: flex;flex-direction: column;z-index: 1;position: relative;background-color: white;}#sk-container-id-1 div.sk-parallel-item:first-child::after {align-self: flex-end;width: 50%;}#sk-container-id-1 div.sk-parallel-item:last-child::after {align-self: flex-start;width: 50%;}#sk-container-id-1 div.sk-parallel-item:only-child::after {width: 0;}#sk-container-id-1 div.sk-dashed-wrapped {border: 1px dashed gray;margin: 0 0.4em 0.5em 0.4em;box-sizing: border-box;padding-bottom: 0.4em;background-color: white;}#sk-container-id-1 div.sk-label label {font-family: monospace;font-weight: bold;display: inline-block;line-height: 1.2em;}#sk-container-id-1 div.sk-label-container {text-align: center;}#sk-container-id-1 div.sk-container {/* jupyter's `normalize.less` sets `[hidden] { display: none; }` but bootstrap.min.css set `[hidden] { display: none !important; }` so we also need the `!important` here to be able to override the default hidden behavior on the sphinx rendered scikit-learn.org. See: https://github.com/scikit-learn/scikit-learn/issues/21755 */display: inline-block !important;position: relative;}#sk-container-id-1 div.sk-text-repr-fallback {display: none;}</style><div id=\"sk-container-id-1\" class=\"sk-top-container\"><div class=\"sk-text-repr-fallback\"><pre>LogisticRegression(class_weight=&#x27;balanced&#x27;, max_iter=1000, random_state=42)</pre><b>In a Jupyter environment, please rerun this cell to show the HTML representation or trust the notebook. <br />On GitHub, the HTML representation is unable to render, please try loading this page with nbviewer.org.</b></div><div class=\"sk-container\" hidden><div class=\"sk-item\"><div class=\"sk-estimator sk-toggleable\"><input class=\"sk-toggleable__control sk-hidden--visually\" id=\"sk-estimator-id-1\" type=\"checkbox\" checked><label for=\"sk-estimator-id-1\" class=\"sk-toggleable__label sk-toggleable__label-arrow\">LogisticRegression</label><div class=\"sk-toggleable__content\"><pre>LogisticRegression(class_weight=&#x27;balanced&#x27;, max_iter=1000, random_state=42)</pre></div></div></div></div></div>"
      ],
      "text/plain": [
       "LogisticRegression(class_weight='balanced', max_iter=1000, random_state=42)"
      ]
     },
     "execution_count": 16,
     "metadata": {},
     "output_type": "execute_result"
    }
   ],
   "source": [
    "# Import and Initialize the Model\n",
    "# Fit a Baseline Regularized Model (L2, C=1.0)\n",
    "\n",
    "# Create a logistic regression model object\n",
    "logreg_model = LogisticRegression(\n",
    "    penalty=\"l2\",\n",
    "    C=1.0,  # Regularization strength (lower = more regularization)\n",
    "    solver=\"lbfgs\",\n",
    "    class_weight=\"balanced\",\n",
    "    max_iter=1000,\n",
    "    random_state=42\n",
    ")\n",
    "\n",
    "\n",
    "# Fit the model on training data\n",
    "logreg_model.fit(X_train, y_train)\n"
   ]
  },
  {
   "cell_type": "code",
   "execution_count": null,
   "id": "cbd50d3b-c7fd-46a1-a3c7-5ba693cdb03c",
   "metadata": {},
   "outputs": [],
   "source": []
  },
  {
   "cell_type": "code",
   "execution_count": 17,
   "id": "7cde63be-1e11-42e4-a10e-ea2c8fa2f3a9",
   "metadata": {},
   "outputs": [],
   "source": [
    "# Grid Search for Best C\n",
    "\n",
    "param_grid = {\n",
    "    \"C\": [0.01, 0.1, 1, 10, 100]\n",
    "}\n",
    "\n",
    "grid = GridSearchCV(\n",
    "    estimator=LogisticRegression(\n",
    "        penalty=\"l2\",\n",
    "        solver=\"lbfgs\",\n",
    "        class_weight=\"balanced\",\n",
    "        max_iter=1000,\n",
    "        random_state=42\n",
    "    ),\n",
    "    param_grid=param_grid,\n",
    "    scoring=\"f1\",  # Or 'roc_auc' depending on your goal\n",
    "    cv=5\n",
    ")\n",
    "\n",
    "grid.fit(X_train, y_train)\n",
    "best_model = grid.best_estimator_\n"
   ]
  },
  {
   "cell_type": "code",
   "execution_count": null,
   "id": "3b8f79a0-1a3f-48a9-867a-e1be41cf215c",
   "metadata": {},
   "outputs": [],
   "source": []
  },
  {
   "cell_type": "code",
   "execution_count": 18,
   "id": "d5ff2df1-dff6-43e3-a17a-076d3e52605a",
   "metadata": {},
   "outputs": [
    {
     "name": "stdout",
     "output_type": "stream",
     "text": [
      "Baseline model (C=1):\n",
      "              precision    recall  f1-score   support\n",
      "\n",
      "       False       0.72      0.64      0.67      1360\n",
      "        True       0.47      0.56      0.51       782\n",
      "\n",
      "    accuracy                           0.61      2142\n",
      "   macro avg       0.59      0.60      0.59      2142\n",
      "weighted avg       0.63      0.61      0.61      2142\n",
      "\n",
      "\n",
      "Tuned model:\n",
      "              precision    recall  f1-score   support\n",
      "\n",
      "       False       0.72      0.64      0.67      1360\n",
      "        True       0.47      0.56      0.51       782\n",
      "\n",
      "    accuracy                           0.61      2142\n",
      "   macro avg       0.59      0.60      0.59      2142\n",
      "weighted avg       0.63      0.61      0.61      2142\n",
      "\n"
     ]
    }
   ],
   "source": [
    "# Evaluate both models\n",
    "print(\"Baseline model (C=1):\")\n",
    "print(classification_report(y_val, logreg_model.predict(X_val)))\n",
    "\n",
    "print(\"\\nTuned model:\")\n",
    "print(classification_report(y_val, best_model.predict(X_val)))\n"
   ]
  },
  {
   "cell_type": "code",
   "execution_count": null,
   "id": "8acd5210-c6c0-4c0e-8fdc-70cbf70d0743",
   "metadata": {},
   "outputs": [],
   "source": []
  },
  {
   "cell_type": "code",
   "execution_count": 19,
   "id": "3838cc26-60dd-4698-a1ac-8c8dc4786714",
   "metadata": {},
   "outputs": [
    {
     "name": "stdout",
     "output_type": "stream",
     "text": [
      "🔎 Logistic Regression Coefficients:\n",
      "value_ratio_dk_log      0.669090\n",
      "targets                 0.084811\n",
      "rolling_fpts_diff_dk    0.007438\n",
      "receptions             -0.049959\n",
      "dtype: float64\n"
     ]
    }
   ],
   "source": [
    "# View and Interpret the Model Coefficients\n",
    "# View learned coefficients with their corresponding feature names\n",
    "coefficients = pd.Series(\n",
    "    logreg_model.coef_[0],\n",
    "    index=X_train.columns\n",
    ").sort_values(ascending=False)\n",
    "\n",
    "print(\"🔎 Logistic Regression Coefficients:\")\n",
    "print(coefficients)\n",
    "\n",
    "coefficients = pd.Series(best_model.coef_[0], index=X_train.columns).sort_values()\n"
   ]
  },
  {
   "cell_type": "code",
   "execution_count": null,
   "id": "2ff6cd94-6df7-4dd3-b501-225f1cad278f",
   "metadata": {},
   "outputs": [],
   "source": []
  },
  {
   "cell_type": "code",
   "execution_count": 20,
   "id": "3d8120d4-ea4c-4a7d-a0f5-4f987c92bb55",
   "metadata": {},
   "outputs": [
    {
     "data": {
      "image/png": "[encoded data removed]",
      "text/plain": [
       "<Figure size 1000x800 with 2 Axes>"
      ]
     },
     "metadata": {},
     "output_type": "display_data"
    },
    {
     "name": "stdout",
     "output_type": "stream",
     "text": [
      "⚠️ Highly Correlated Pairs (|r| > 0.75):\n"
     ]
    },
    {
     "data": {
      "text/html": [
       "<div>\n",
       "<style scoped>\n",
       "    .dataframe tbody tr th:only-of-type {\n",
       "        vertical-align: middle;\n",
       "    }\n",
       "\n",
       "    .dataframe tbody tr th {\n",
       "        vertical-align: top;\n",
       "    }\n",
       "\n",
       "    .dataframe thead th {\n",
       "        text-align: right;\n",
       "    }\n",
       "</style>\n",
       "<table border=\"1\" class=\"dataframe\">\n",
       "  <thead>\n",
       "    <tr style=\"text-align: right;\">\n",
       "      <th></th>\n",
       "      <th>targets</th>\n",
       "      <th>receptions</th>\n",
       "      <th>rolling_fpts_diff_dk</th>\n",
       "      <th>value_ratio_dk_log</th>\n",
       "    </tr>\n",
       "  </thead>\n",
       "  <tbody>\n",
       "    <tr>\n",
       "      <th>targets</th>\n",
       "      <td>NaN</td>\n",
       "      <td>0.889945</td>\n",
       "      <td>NaN</td>\n",
       "      <td>NaN</td>\n",
       "    </tr>\n",
       "    <tr>\n",
       "      <th>receptions</th>\n",
       "      <td>0.889945</td>\n",
       "      <td>NaN</td>\n",
       "      <td>NaN</td>\n",
       "      <td>NaN</td>\n",
       "    </tr>\n",
       "    <tr>\n",
       "      <th>rolling_fpts_diff_dk</th>\n",
       "      <td>NaN</td>\n",
       "      <td>NaN</td>\n",
       "      <td>NaN</td>\n",
       "      <td>NaN</td>\n",
       "    </tr>\n",
       "    <tr>\n",
       "      <th>value_ratio_dk_log</th>\n",
       "      <td>NaN</td>\n",
       "      <td>NaN</td>\n",
       "      <td>NaN</td>\n",
       "      <td>NaN</td>\n",
       "    </tr>\n",
       "  </tbody>\n",
       "</table>\n",
       "</div>"
      ],
      "text/plain": [
       "                       targets  receptions  rolling_fpts_diff_dk  \\\n",
       "targets                    NaN    0.889945                   NaN   \n",
       "receptions            0.889945         NaN                   NaN   \n",
       "rolling_fpts_diff_dk       NaN         NaN                   NaN   \n",
       "value_ratio_dk_log         NaN         NaN                   NaN   \n",
       "\n",
       "                      value_ratio_dk_log  \n",
       "targets                              NaN  \n",
       "receptions                           NaN  \n",
       "rolling_fpts_diff_dk                 NaN  \n",
       "value_ratio_dk_log                   NaN  "
      ]
     },
     "metadata": {},
     "output_type": "display_data"
    }
   ],
   "source": [
    "# 📉 Correlation Matrix Among Features\n",
    "# 🕵️ Spot collinearity and detect proxy behavior\n",
    "\n",
    "# 📊 Correlation Matrix Among Final Model Features\n",
    "# 🔁 Recalculate correlation matrix using final features\n",
    "corr_matrix = wr_model_df[features_base].dropna().corr()\n",
    "\n",
    "# ❌ Remove the mask to show full square matrix\n",
    "# ✅ Increase figure size and layout margins to prevent cutoff\n",
    "plt.figure(figsize=(10, 8))\n",
    "\n",
    "sns.heatmap(\n",
    "    corr_matrix,\n",
    "    annot=True,\n",
    "    fmt=\".2f\",\n",
    "    cmap=\"coolwarm\",\n",
    "    square=True,\n",
    "    linewidths=0.5,\n",
    "    cbar_kws={\"shrink\": 0.8}\n",
    ")\n",
    "\n",
    "plt.title(\"Correlation Matrix of Final Model Features\", fontsize=14)\n",
    "plt.xticks(rotation=45, ha=\"right\")\n",
    "plt.yticks(rotation=0)\n",
    "plt.tight_layout(pad=2.0)\n",
    "plt.show()\n",
    "\n",
    "# 🔍 Find high-correlation pairs\n",
    "threshold = 0.75\n",
    "high_corr = corr_matrix.abs() > threshold\n",
    "print(\"⚠️ Highly Correlated Pairs (|r| > 0.75):\")\n",
    "display(corr_matrix[high_corr & ~np.eye(len(corr_matrix), dtype=bool)])\n"
   ]
  },
  {
   "cell_type": "code",
   "execution_count": null,
   "id": "8bab893f-99c2-47ef-b63a-68390b5d396a",
   "metadata": {},
   "outputs": [],
   "source": []
  },
  {
   "cell_type": "code",
   "execution_count": 21,
   "id": "a8db3d62-e218-44a8-b9f4-604482776942",
   "metadata": {},
   "outputs": [],
   "source": [
    "# modify the feature base based on modeling and correlation analysis\n",
    "features_base = [f for f in features_base if f != \"receptions\"]\n"
   ]
  },
  {
   "cell_type": "code",
   "execution_count": 22,
   "id": "e6beb203-73e3-44cc-8d2c-7b2fd86dd8fc",
   "metadata": {},
   "outputs": [
    {
     "data": {
      "text/plain": [
       "catch_percentage                       16949\n",
       "catch_percentage_scaled                16949\n",
       "catch_percentage_scaled_z              16949\n",
       "fpts_3wk_avg                           16949\n",
       "avg_cushion                            16949\n",
       "avg_separation                         16949\n",
       "avg_intended_air_yards                 16949\n",
       "percent_share_of_intended_air_yards    16949\n",
       "dtype: int64"
      ]
     },
     "execution_count": 22,
     "metadata": {},
     "output_type": "execute_result"
    }
   ],
   "source": [
    "# explore more features\n",
    "candidate_features = [\n",
    "    \"catch_percentage\",\n",
    "    \"catch_percentage_scaled\",\n",
    "    \"catch_percentage_scaled_z\",\n",
    "    \"fpts_3wk_avg\",\n",
    "    \"avg_cushion\",\n",
    "    \"avg_separation\",\n",
    "    \"avg_intended_air_yards\",\n",
    "    \"percent_share_of_intended_air_yards\"\n",
    "]\n",
    "\n",
    "# Count non-null values\n",
    "wr_df[candidate_features].notnull().sum().sort_values(ascending=False)\n"
   ]
  },
  {
   "cell_type": "code",
   "execution_count": null,
   "id": "f572ef78-f7c2-4fe8-8907-4aa7def78cc7",
   "metadata": {},
   "outputs": [],
   "source": []
  },
  {
   "cell_type": "code",
   "execution_count": 23,
   "id": "c5235a57-c878-4af3-8ebb-3194b7dbfa8e",
   "metadata": {},
   "outputs": [
    {
     "name": "stdout",
     "output_type": "stream",
     "text": [
      "🔍 Evaluating feature: catch_percentage\n",
      " - Normality test p-value: 0.0000 → ❌ Not normal\n",
      " - Z-score version: ❌ Not found\n",
      " - Missing flag for base: ❌ Not found\n",
      " - Missing flag for z: ❌ Not found\n",
      "📌 Recommendation: ✅ Use Base version: catch_percentage\n",
      "------------------------------------------------------------\n",
      "🔍 Evaluating feature: catch_percentage_scaled\n",
      " - Normality test p-value: 0.0000 → ❌ Not normal\n",
      " - Z-score version: ✅ Found\n",
      " - Missing flag for base: ❌ Not found\n",
      " - Missing flag for z: ❌ Not found\n",
      "📌 Recommendation: ✅ Use Base version: catch_percentage_scaled\n",
      "------------------------------------------------------------\n",
      "🔍 Evaluating feature: catch_percentage_scaled_z\n",
      " - Normality test p-value: 0.0000 → ❌ Not normal\n",
      " - Z-score version: ❌ Not found\n",
      " - Missing flag for base: ❌ Not found\n",
      " - Missing flag for z: ❌ Not found\n",
      "📌 Recommendation: ✅ Use Base version: catch_percentage_scaled_z\n",
      "------------------------------------------------------------\n",
      "🔍 Evaluating feature: fpts_3wk_avg\n",
      " - Normality test p-value: 0.0000 → ❌ Not normal\n",
      " - Z-score version: ❌ Not found\n",
      " - Missing flag for base: is_missing_fpts_3wk_avg\n",
      " - Missing flag for z: ❌ Not found\n",
      "📌 Recommendation: ✅ Use Base version: fpts_3wk_avg\n",
      "⚠️  Include missingness flag: is_missing_fpts_3wk_avg\n",
      "------------------------------------------------------------\n",
      "🔍 Evaluating feature: avg_cushion\n",
      " - Normality test p-value: 0.0000 → ❌ Not normal\n",
      " - Z-score version: ❌ Not found\n",
      " - Missing flag for base: is_missing_avg_cushion\n",
      " - Missing flag for z: ❌ Not found\n",
      "📌 Recommendation: ✅ Use Base version: avg_cushion\n",
      "⚠️  Include missingness flag: is_missing_avg_cushion\n",
      "------------------------------------------------------------\n",
      "🔍 Evaluating feature: avg_separation\n",
      " - Normality test p-value: 0.0000 → ❌ Not normal\n",
      " - Z-score version: ❌ Not found\n",
      " - Missing flag for base: is_missing_avg_separation\n",
      " - Missing flag for z: ❌ Not found\n",
      "📌 Recommendation: ✅ Use Base version: avg_separation\n",
      "⚠️  Include missingness flag: is_missing_avg_separation\n",
      "------------------------------------------------------------\n",
      "🔍 Evaluating feature: avg_intended_air_yards\n",
      " - Normality test p-value: 0.0000 → ❌ Not normal\n",
      " - Z-score version: ❌ Not found\n",
      " - Missing flag for base: is_missing_avg_intended_air_yards\n",
      " - Missing flag for z: ❌ Not found\n",
      "📌 Recommendation: ✅ Use Base version: avg_intended_air_yards\n",
      "⚠️  Include missingness flag: is_missing_avg_intended_air_yards\n",
      "------------------------------------------------------------\n",
      "🔍 Evaluating feature: percent_share_of_intended_air_yards\n",
      " - Normality test p-value: 0.0000 → ❌ Not normal\n",
      " - Z-score version: ❌ Not found\n",
      " - Missing flag for base: is_missing_percent_share_of_intended_air_yards\n",
      " - Missing flag for z: ❌ Not found\n",
      "📌 Recommendation: ✅ Use Base version: percent_share_of_intended_air_yards\n",
      "⚠️  Include missingness flag: is_missing_percent_share_of_intended_air_yards\n",
      "------------------------------------------------------------\n"
     ]
    },
    {
     "data": {
      "text/plain": [
       "[{'base_feature': 'catch_percentage',\n",
       "  'use_z': False,\n",
       "  'recommended_feature': 'catch_percentage',\n",
       "  'missing_flag': None},\n",
       " {'base_feature': 'catch_percentage_scaled',\n",
       "  'use_z': False,\n",
       "  'recommended_feature': 'catch_percentage_scaled',\n",
       "  'missing_flag': None},\n",
       " {'base_feature': 'catch_percentage_scaled_z',\n",
       "  'use_z': False,\n",
       "  'recommended_feature': 'catch_percentage_scaled_z',\n",
       "  'missing_flag': None},\n",
       " {'base_feature': 'fpts_3wk_avg',\n",
       "  'use_z': False,\n",
       "  'recommended_feature': 'fpts_3wk_avg',\n",
       "  'missing_flag': 'is_missing_fpts_3wk_avg'},\n",
       " {'base_feature': 'avg_cushion',\n",
       "  'use_z': False,\n",
       "  'recommended_feature': 'avg_cushion',\n",
       "  'missing_flag': 'is_missing_avg_cushion'},\n",
       " {'base_feature': 'avg_separation',\n",
       "  'use_z': False,\n",
       "  'recommended_feature': 'avg_separation',\n",
       "  'missing_flag': 'is_missing_avg_separation'},\n",
       " {'base_feature': 'avg_intended_air_yards',\n",
       "  'use_z': False,\n",
       "  'recommended_feature': 'avg_intended_air_yards',\n",
       "  'missing_flag': 'is_missing_avg_intended_air_yards'},\n",
       " {'base_feature': 'percent_share_of_intended_air_yards',\n",
       "  'use_z': False,\n",
       "  'recommended_feature': 'percent_share_of_intended_air_yards',\n",
       "  'missing_flag': 'is_missing_percent_share_of_intended_air_yards'}]"
      ]
     },
     "execution_count": 23,
     "metadata": {},
     "output_type": "execute_result"
    }
   ],
   "source": [
    "# test candidate features for normality\n",
    "evaluate_feature_for_zscore(candidate_features)\n"
   ]
  },
  {
   "cell_type": "code",
   "execution_count": null,
   "id": "d32b6416-5af5-4198-bae8-d79fd309c93c",
   "metadata": {},
   "outputs": [],
   "source": []
  },
  {
   "cell_type": "code",
   "execution_count": 24,
   "id": "4e6a8d74-3914-4f8b-a724-00763fe8d78a",
   "metadata": {},
   "outputs": [],
   "source": [
    "# Helper for Candidate Feature Evaluation\n",
    "# -Check correlation among candidates\n",
    "# -Check correlation with existing features_base\n",
    "# -Identify and remove near-duplicate features (e.g., > 0.98 corr)\n",
    "# -Evaluate predictive signal against target\n",
    "# -Recommend new features to include\n",
    "\n",
    "def evaluate_candidate_features(df, candidates, features_base, target, corr_thresh=0.9, signal_thresh=0.05):\n",
    "\n",
    "    print(f\"🔍 Evaluating {len(candidates)} candidate features...\")\n",
    "\n",
    "    results = {\n",
    "        \"high_corr_among_candidates\": [],\n",
    "        \"high_corr_with_base\": [],\n",
    "        \"low_signal\": [],\n",
    "        \"recommended_features\": []\n",
    "    }\n",
    "\n",
    "    # Correlation among candidates\n",
    "    cand_corr = df[candidates].corr()\n",
    "    for i, col_i in enumerate(candidates):\n",
    "        for j, col_j in enumerate(candidates):\n",
    "            if i < j and abs(cand_corr.loc[col_i, col_j]) >= corr_thresh:\n",
    "                results[\"high_corr_among_candidates\"].append((col_i, col_j, cand_corr.loc[col_i, col_j]))\n",
    "\n",
    "    # Correlation with existing features\n",
    "    all_features = features_base + candidates\n",
    "    full_corr = df[all_features].corr()\n",
    "    for c in candidates:\n",
    "        for f in features_base:\n",
    "            if abs(full_corr.loc[c, f]) >= corr_thresh:\n",
    "                results[\"high_corr_with_base\"].append((c, f, full_corr.loc[c, f]))\n",
    "\n",
    "    # Evaluate predictive power\n",
    "    corr_with_target = df[candidates].corrwith(df[target])\n",
    "    for c in candidates:\n",
    "        if abs(corr_with_target[c]) < signal_thresh:\n",
    "            results[\"low_signal\"].append((c, corr_with_target[c]))\n",
    "\n",
    "    # Recommend features that are:\n",
    "    # - Not highly correlated with other candidates or base features\n",
    "    # - Have sufficient signal\n",
    "    excluded = set([x[0] for x in results[\"high_corr_among_candidates\"]] +\n",
    "                   [x[0] for x in results[\"high_corr_with_base\"]] +\n",
    "                   [x[0] for x in results[\"low_signal\"]])\n",
    "    \n",
    "    for c in candidates:\n",
    "        if c not in excluded:\n",
    "            results[\"recommended_features\"].append(c)\n",
    "\n",
    "    # Print summary\n",
    "    print(f\"🔗 High correlation among candidates (>{corr_thresh}): {len(results['high_corr_among_candidates'])}\")\n",
    "    print(f\"🔗 High correlation with base features (>{corr_thresh}): {len(results['high_corr_with_base'])}\")\n",
    "    print(f\"📉 Low predictive signal (<{signal_thresh} correlation with target): {len(results['low_signal'])}\")\n",
    "    print(f\"✅ Recommended features to add: {results['recommended_features']}\")\n",
    "\n",
    "    return results\n"
   ]
  },
  {
   "cell_type": "code",
   "execution_count": null,
   "id": "83fa6a75-ac1e-4eed-8885-4ee2bfdc8463",
   "metadata": {},
   "outputs": [],
   "source": []
  },
  {
   "cell_type": "code",
   "execution_count": 25,
   "id": "a655dbbf-847d-4dd0-a9f2-cc9106381e07",
   "metadata": {},
   "outputs": [
    {
     "name": "stdout",
     "output_type": "stream",
     "text": [
      "🔍 Evaluating 8 candidate features...\n",
      "🔗 High correlation among candidates (>0.9): 4\n",
      "🔗 High correlation with base features (>0.9): 0\n",
      "📉 Low predictive signal (<0.05 correlation with target): 0\n",
      "✅ Recommended features to add: ['catch_percentage_scaled_z', 'fpts_3wk_avg', 'avg_separation', 'avg_intended_air_yards', 'percent_share_of_intended_air_yards']\n"
     ]
    }
   ],
   "source": [
    "results = evaluate_candidate_features(\n",
    "    df=wr_df,\n",
    "    candidates=candidate_features,\n",
    "    features_base=features_base,\n",
    "    target='hit_value_dk',  \n",
    "    corr_thresh=0.9,\n",
    "    signal_thresh=0.05\n",
    ")\n"
   ]
  },
  {
   "cell_type": "code",
   "execution_count": null,
   "id": "effe88ec-fcdc-4721-a4a8-d7fb25595e4b",
   "metadata": {},
   "outputs": [],
   "source": []
  },
  {
   "cell_type": "code",
   "execution_count": 26,
   "id": "f35f8dfb-c84a-4f15-bcd6-0d9908b879f9",
   "metadata": {},
   "outputs": [],
   "source": [
    "# include new features and and \"is_missing_\" flags\n",
    "new_features = [\n",
    "    'fpts_3wk_avg',\n",
    "    'is_missing_fpts_3wk_avg',\n",
    "    'avg_separation',\n",
    "    'is_missing_avg_separation',\n",
    "    'avg_intended_air_yards',\n",
    "    'is_missing_avg_intended_air_yards',\n",
    "    'percent_share_of_intended_air_yards',\n",
    "    'is_missing_percent_share_of_intended_air_yards'\n",
    "]\n"
   ]
  },
  {
   "cell_type": "code",
   "execution_count": null,
   "id": "d0b96e8f-4005-40fa-9192-bde4c31c79ed",
   "metadata": {},
   "outputs": [],
   "source": []
  },
  {
   "cell_type": "code",
   "execution_count": 27,
   "id": "cfe7c334-347d-4b07-bb77-66c65da58578",
   "metadata": {},
   "outputs": [],
   "source": [
    "# add the new features to the base features\n",
    "features_base = list(set(features_base + new_features))\n"
   ]
  },
  {
   "cell_type": "code",
   "execution_count": null,
   "id": "5700fd49-51c9-4431-a0d4-8bc850fa609d",
   "metadata": {},
   "outputs": [],
   "source": []
  },
  {
   "cell_type": "code",
   "execution_count": 28,
   "id": "e644905f-4879-4c68-b72c-e73fbecaf816",
   "metadata": {},
   "outputs": [],
   "source": [
    "# Regenerate the lagged modeling DataFrame\n",
    "wr_model_df = create_modeling_dataframe(wr_df, features_base)\n"
   ]
  },
  {
   "cell_type": "code",
   "execution_count": null,
   "id": "ccf4b956-c933-44de-85ad-36f5c9c34d8d",
   "metadata": {},
   "outputs": [],
   "source": []
  },
  {
   "cell_type": "code",
   "execution_count": 29,
   "id": "b6cb418b-b3cf-4588-ab22-9dd4f4a1ddf5",
   "metadata": {},
   "outputs": [],
   "source": [
    "## Important: re-define  target (y-variable) and predictor variables (features) after correlation analysis\n",
    "\n",
    "# subset features from df into a temporary X variable\n",
    "X = wr_model_df[features_base].copy()\n",
    "y = wr_model_df[\"hit_value_dk\"].copy()\n"
   ]
  },
  {
   "cell_type": "code",
   "execution_count": null,
   "id": "d8f7fc6f-c7d0-42a5-b9d4-aa675b953da7",
   "metadata": {},
   "outputs": [],
   "source": []
  },
  {
   "cell_type": "code",
   "execution_count": 30,
   "id": "0c916e5b-45fe-40f5-9cc3-c12727915079",
   "metadata": {},
   "outputs": [],
   "source": [
    "# Recreate your train / val / test splits\n",
    "\n",
    "mask_2024 = wr_model_df[\"season\"] == 2024\n",
    "mask_2023 = wr_model_df[\"season\"] == 2023\n",
    "mask_pre_2023 = wr_model_df[\"season\"] < 2023\n",
    "\n",
    "mask_all_valid = X.notnull().all(axis=1) & y.notnull()\n",
    "\n",
    "mask_train = mask_all_valid & mask_pre_2023\n",
    "X_train = X[mask_train]\n",
    "y_train = y[mask_train]\n",
    "\n",
    "mask_val = mask_all_valid & mask_2023\n",
    "X_val = X[mask_val]\n",
    "y_val = y[mask_val]\n",
    "\n",
    "mask_test = mask_all_valid & mask_2024\n",
    "X_test_final = X[mask_test]\n",
    "y_test_final = y[mask_test]\n"
   ]
  },
  {
   "cell_type": "code",
   "execution_count": null,
   "id": "7eba9c97-37bd-4338-ba83-be56f8befbf6",
   "metadata": {},
   "outputs": [],
   "source": []
  },
  {
   "cell_type": "code",
   "execution_count": 31,
   "id": "6c251861-cad8-4041-88e9-a7278c5cd10a",
   "metadata": {},
   "outputs": [
    {
     "data": {
      "text/html": [
       "<style>#sk-container-id-2 {color: black;background-color: white;}#sk-container-id-2 pre{padding: 0;}#sk-container-id-2 div.sk-toggleable {background-color: white;}#sk-container-id-2 label.sk-toggleable__label {cursor: pointer;display: block;width: 100%;margin-bottom: 0;padding: 0.3em;box-sizing: border-box;text-align: center;}#sk-container-id-2 label.sk-toggleable__label-arrow:before {content: \"▸\";float: left;margin-right: 0.25em;color: #696969;}#sk-container-id-2 label.sk-toggleable__label-arrow:hover:before {color: black;}#sk-container-id-2 div.sk-estimator:hover label.sk-toggleable__label-arrow:before {color: black;}#sk-container-id-2 div.sk-toggleable__content {max-height: 0;max-width: 0;overflow: hidden;text-align: left;background-color: #f0f8ff;}#sk-container-id-2 div.sk-toggleable__content pre {margin: 0.2em;color: black;border-radius: 0.25em;background-color: #f0f8ff;}#sk-container-id-2 input.sk-toggleable__control:checked~div.sk-toggleable__content {max-height: 200px;max-width: 100%;overflow: auto;}#sk-container-id-2 input.sk-toggleable__control:checked~label.sk-toggleable__label-arrow:before {content: \"▾\";}#sk-container-id-2 div.sk-estimator input.sk-toggleable__control:checked~label.sk-toggleable__label {background-color: #d4ebff;}#sk-container-id-2 div.sk-label input.sk-toggleable__control:checked~label.sk-toggleable__label {background-color: #d4ebff;}#sk-container-id-2 input.sk-hidden--visually {border: 0;clip: rect(1px 1px 1px 1px);clip: rect(1px, 1px, 1px, 1px);height: 1px;margin: -1px;overflow: hidden;padding: 0;position: absolute;width: 1px;}#sk-container-id-2 div.sk-estimator {font-family: monospace;background-color: #f0f8ff;border: 1px dotted black;border-radius: 0.25em;box-sizing: border-box;margin-bottom: 0.5em;}#sk-container-id-2 div.sk-estimator:hover {background-color: #d4ebff;}#sk-container-id-2 div.sk-parallel-item::after {content: \"\";width: 100%;border-bottom: 1px solid gray;flex-grow: 1;}#sk-container-id-2 div.sk-label:hover label.sk-toggleable__label {background-color: #d4ebff;}#sk-container-id-2 div.sk-serial::before {content: \"\";position: absolute;border-left: 1px solid gray;box-sizing: border-box;top: 0;bottom: 0;left: 50%;z-index: 0;}#sk-container-id-2 div.sk-serial {display: flex;flex-direction: column;align-items: center;background-color: white;padding-right: 0.2em;padding-left: 0.2em;position: relative;}#sk-container-id-2 div.sk-item {position: relative;z-index: 1;}#sk-container-id-2 div.sk-parallel {display: flex;align-items: stretch;justify-content: center;background-color: white;position: relative;}#sk-container-id-2 div.sk-item::before, #sk-container-id-2 div.sk-parallel-item::before {content: \"\";position: absolute;border-left: 1px solid gray;box-sizing: border-box;top: 0;bottom: 0;left: 50%;z-index: -1;}#sk-container-id-2 div.sk-parallel-item {display: flex;flex-direction: column;z-index: 1;position: relative;background-color: white;}#sk-container-id-2 div.sk-parallel-item:first-child::after {align-self: flex-end;width: 50%;}#sk-container-id-2 div.sk-parallel-item:last-child::after {align-self: flex-start;width: 50%;}#sk-container-id-2 div.sk-parallel-item:only-child::after {width: 0;}#sk-container-id-2 div.sk-dashed-wrapped {border: 1px dashed gray;margin: 0 0.4em 0.5em 0.4em;box-sizing: border-box;padding-bottom: 0.4em;background-color: white;}#sk-container-id-2 div.sk-label label {font-family: monospace;font-weight: bold;display: inline-block;line-height: 1.2em;}#sk-container-id-2 div.sk-label-container {text-align: center;}#sk-container-id-2 div.sk-container {/* jupyter's `normalize.less` sets `[hidden] { display: none; }` but bootstrap.min.css set `[hidden] { display: none !important; }` so we also need the `!important` here to be able to override the default hidden behavior on the sphinx rendered scikit-learn.org. See: https://github.com/scikit-learn/scikit-learn/issues/21755 */display: inline-block !important;position: relative;}#sk-container-id-2 div.sk-text-repr-fallback {display: none;}</style><div id=\"sk-container-id-2\" class=\"sk-top-container\"><div class=\"sk-text-repr-fallback\"><pre>LogisticRegression(class_weight=&#x27;balanced&#x27;, max_iter=1000, random_state=42)</pre><b>In a Jupyter environment, please rerun this cell to show the HTML representation or trust the notebook. <br />On GitHub, the HTML representation is unable to render, please try loading this page with nbviewer.org.</b></div><div class=\"sk-container\" hidden><div class=\"sk-item\"><div class=\"sk-estimator sk-toggleable\"><input class=\"sk-toggleable__control sk-hidden--visually\" id=\"sk-estimator-id-2\" type=\"checkbox\" checked><label for=\"sk-estimator-id-2\" class=\"sk-toggleable__label sk-toggleable__label-arrow\">LogisticRegression</label><div class=\"sk-toggleable__content\"><pre>LogisticRegression(class_weight=&#x27;balanced&#x27;, max_iter=1000, random_state=42)</pre></div></div></div></div></div>"
      ],
      "text/plain": [
       "LogisticRegression(class_weight='balanced', max_iter=1000, random_state=42)"
      ]
     },
     "execution_count": 31,
     "metadata": {},
     "output_type": "execute_result"
    }
   ],
   "source": [
    "## retrain and fit the model after modifying features ##\n",
    "\n",
    "# Create a logistic regression model with moderate regularization\n",
    "logreg_model = LogisticRegression(\n",
    "    penalty=\"l2\",            # L2 regularization\n",
    "    C=1.0,                   # Regularization strength\n",
    "    solver=\"lbfgs\",          # Recommended for small to medium datasets\n",
    "    class_weight=\"balanced\",# Handle class imbalance\n",
    "    max_iter=1000,\n",
    "    random_state=42\n",
    ")\n",
    "\n",
    "# Fit on training data\n",
    "logreg_model.fit(X_train, y_train)\n"
   ]
  },
  {
   "cell_type": "code",
   "execution_count": null,
   "id": "53c684c1-ed4e-49fd-ba41-7f2e0030cf09",
   "metadata": {},
   "outputs": [],
   "source": []
  },
  {
   "cell_type": "code",
   "execution_count": 32,
   "id": "69e2e905-0d2f-4636-af91-26af4f65d510",
   "metadata": {},
   "outputs": [],
   "source": [
    "## retrain and fit the model after modifying features ##\n",
    "\n",
    "# Define parameter grid\n",
    "param_grid = {\n",
    "    \"C\": [0.01, 0.1, 1, 10, 100]\n",
    "}\n",
    "\n",
    "# Setup grid search\n",
    "grid = GridSearchCV(\n",
    "    estimator=LogisticRegression(\n",
    "        penalty=\"l2\",\n",
    "        solver=\"lbfgs\",\n",
    "        class_weight=\"balanced\",\n",
    "        max_iter=1000,\n",
    "        random_state=42\n",
    "    ),\n",
    "    param_grid=param_grid,\n",
    "    scoring=\"f1\",  # Or 'roc_auc' depending on your metric priority\n",
    "    cv=5\n",
    ")\n",
    "\n",
    "# Fit grid search on training data\n",
    "grid.fit(X_train, y_train)\n",
    "\n",
    "# Extract best model\n",
    "best_model = grid.best_estimator_\n"
   ]
  },
  {
   "cell_type": "code",
   "execution_count": null,
   "id": "fe1211be-65f0-4f3c-a9e6-fef65f1f3ef9",
   "metadata": {},
   "outputs": [],
   "source": []
  },
  {
   "cell_type": "code",
   "execution_count": 33,
   "id": "83c3ac81-0b26-460d-8f70-a15450ec15c4",
   "metadata": {},
   "outputs": [
    {
     "name": "stdout",
     "output_type": "stream",
     "text": [
      "📊 Baseline model (C=1):\n",
      "              precision    recall  f1-score   support\n",
      "\n",
      "       False       0.73      0.61      0.67      1360\n",
      "        True       0.47      0.60      0.53       782\n",
      "\n",
      "    accuracy                           0.61      2142\n",
      "   macro avg       0.60      0.61      0.60      2142\n",
      "weighted avg       0.63      0.61      0.62      2142\n",
      "\n",
      "\n",
      "✅ Tuned model (best C):\n",
      "              precision    recall  f1-score   support\n",
      "\n",
      "       False       0.73      0.61      0.67      1360\n",
      "        True       0.47      0.60      0.53       782\n",
      "\n",
      "    accuracy                           0.61      2142\n",
      "   macro avg       0.60      0.61      0.60      2142\n",
      "weighted avg       0.63      0.61      0.62      2142\n",
      "\n"
     ]
    }
   ],
   "source": [
    "# compare the baseline vs. tuned model on the validation set\n",
    "\n",
    "print(\"📊 Baseline model (C=1):\")\n",
    "print(classification_report(y_val, logreg_model.predict(X_val)))\n",
    "\n",
    "print(\"\\n✅ Tuned model (best C):\")\n",
    "print(classification_report(y_val, best_model.predict(X_val)))\n"
   ]
  },
  {
   "cell_type": "code",
   "execution_count": null,
   "id": "b12a80a0-63b7-4af1-af4b-f89e91283d9f",
   "metadata": {},
   "outputs": [],
   "source": []
  },
  {
   "cell_type": "code",
   "execution_count": 34,
   "id": "45bd7d5e-9881-40c4-b084-491c9640ae24",
   "metadata": {},
   "outputs": [
    {
     "name": "stdout",
     "output_type": "stream",
     "text": [
      "🔍 Logistic Regression Coefficients (sorted by influence):\n"
     ]
    },
    {
     "data": {
      "text/plain": [
       "value_ratio_dk_log                                0.700987\n",
       "fpts_3wk_avg                                      0.031062\n",
       "targets                                           0.020562\n",
       "percent_share_of_intended_air_yards               0.001878\n",
       "is_missing_avg_intended_air_yards                 0.000000\n",
       "is_missing_fpts_3wk_avg                           0.000000\n",
       "is_missing_percent_share_of_intended_air_yards    0.000000\n",
       "avg_intended_air_yards                           -0.005202\n",
       "rolling_fpts_diff_dk                             -0.023124\n",
       "avg_separation                                   -0.050922\n",
       "is_missing_avg_separation                        -0.369227\n",
       "dtype: float64"
      ]
     },
     "metadata": {},
     "output_type": "display_data"
    }
   ],
   "source": [
    "# View and interpret the model coefficients based on the expanded features list\n",
    "coefficients = pd.Series(\n",
    "    best_model.coef_[0],\n",
    "    index=X_train.columns\n",
    ").sort_values(ascending=False)\n",
    "\n",
    "print(\"🔍 Logistic Regression Coefficients (sorted by influence):\")\n",
    "display(coefficients)\n"
   ]
  },
  {
   "cell_type": "code",
   "execution_count": null,
   "id": "250a7832-7b6e-4670-bf34-5695a202d571",
   "metadata": {},
   "outputs": [],
   "source": []
  },
  {
   "cell_type": "code",
   "execution_count": 35,
   "id": "28c60c8e-2cc7-4e94-a038-b125cbd48521",
   "metadata": {},
   "outputs": [],
   "source": [
    "# Drop value_ratio_dk_log and all is_missing_* flags from features_base\n",
    "features_base = [\n",
    "    f for f in features_base\n",
    "    if f != \"value_ratio_dk_log\" and not f.startswith(\"is_missing_\")\n",
    "]\n"
   ]
  },
  {
   "cell_type": "code",
   "execution_count": null,
   "id": "ce3aaf65-12d6-4109-899b-caf4ac4a3f0b",
   "metadata": {},
   "outputs": [],
   "source": []
  },
  {
   "cell_type": "code",
   "execution_count": 36,
   "id": "08c3b2a7-c008-48dc-8fb7-a9c007642e89",
   "metadata": {},
   "outputs": [],
   "source": [
    "# Recreate wr_model_df with lagged features\n",
    "wr_model_df = create_modeling_dataframe(wr_df, features_base)\n"
   ]
  },
  {
   "cell_type": "code",
   "execution_count": null,
   "id": "6c9f826e-bfac-408e-aed0-f5edf0a27684",
   "metadata": {},
   "outputs": [],
   "source": []
  },
  {
   "cell_type": "code",
   "execution_count": 37,
   "id": "4122b41b-ad0e-4998-8f5d-8448805e8a6d",
   "metadata": {},
   "outputs": [],
   "source": [
    "# Redefine X and y\n",
    "X = wr_model_df[features_base].copy()\n",
    "y = wr_model_df[\"hit_value_dk\"].copy()\n"
   ]
  },
  {
   "cell_type": "code",
   "execution_count": null,
   "id": "2cbce84f-4a2a-4b5f-b57c-dd1626961673",
   "metadata": {},
   "outputs": [],
   "source": []
  },
  {
   "cell_type": "code",
   "execution_count": 38,
   "id": "cbdd08d4-bb73-4b82-ad0f-ab17cb0022e3",
   "metadata": {},
   "outputs": [],
   "source": [
    "# Recreate masks\n",
    "mask_2024 = wr_model_df[\"season\"] == 2024\n",
    "mask_2023 = wr_model_df[\"season\"] == 2023\n",
    "mask_pre_2023 = wr_model_df[\"season\"] < 2023\n",
    "\n",
    "# Full null check\n",
    "mask_all_valid = X.notnull().all(axis=1) & y.notnull()\n",
    "\n",
    "# Training\n",
    "mask_train = mask_all_valid & mask_pre_2023\n",
    "X_train = X[mask_train]\n",
    "y_train = y[mask_train]\n",
    "\n",
    "# Validation\n",
    "mask_val = mask_all_valid & mask_2023\n",
    "X_val = X[mask_val]\n",
    "y_val = y[mask_val]\n",
    "\n",
    "# Final Test\n",
    "mask_test = mask_all_valid & mask_2024\n",
    "X_test_final = X[mask_test]\n",
    "y_test_final = y[mask_test]\n"
   ]
  },
  {
   "cell_type": "code",
   "execution_count": null,
   "id": "319c2e07-44d5-4d41-bd56-fe2d0196de25",
   "metadata": {},
   "outputs": [],
   "source": []
  },
  {
   "cell_type": "code",
   "execution_count": 39,
   "id": "a4b6508c-644c-4abf-b63e-7b40711bca3d",
   "metadata": {},
   "outputs": [
    {
     "data": {
      "text/html": [
       "<style>#sk-container-id-3 {color: black;background-color: white;}#sk-container-id-3 pre{padding: 0;}#sk-container-id-3 div.sk-toggleable {background-color: white;}#sk-container-id-3 label.sk-toggleable__label {cursor: pointer;display: block;width: 100%;margin-bottom: 0;padding: 0.3em;box-sizing: border-box;text-align: center;}#sk-container-id-3 label.sk-toggleable__label-arrow:before {content: \"▸\";float: left;margin-right: 0.25em;color: #696969;}#sk-container-id-3 label.sk-toggleable__label-arrow:hover:before {color: black;}#sk-container-id-3 div.sk-estimator:hover label.sk-toggleable__label-arrow:before {color: black;}#sk-container-id-3 div.sk-toggleable__content {max-height: 0;max-width: 0;overflow: hidden;text-align: left;background-color: #f0f8ff;}#sk-container-id-3 div.sk-toggleable__content pre {margin: 0.2em;color: black;border-radius: 0.25em;background-color: #f0f8ff;}#sk-container-id-3 input.sk-toggleable__control:checked~div.sk-toggleable__content {max-height: 200px;max-width: 100%;overflow: auto;}#sk-container-id-3 input.sk-toggleable__control:checked~label.sk-toggleable__label-arrow:before {content: \"▾\";}#sk-container-id-3 div.sk-estimator input.sk-toggleable__control:checked~label.sk-toggleable__label {background-color: #d4ebff;}#sk-container-id-3 div.sk-label input.sk-toggleable__control:checked~label.sk-toggleable__label {background-color: #d4ebff;}#sk-container-id-3 input.sk-hidden--visually {border: 0;clip: rect(1px 1px 1px 1px);clip: rect(1px, 1px, 1px, 1px);height: 1px;margin: -1px;overflow: hidden;padding: 0;position: absolute;width: 1px;}#sk-container-id-3 div.sk-estimator {font-family: monospace;background-color: #f0f8ff;border: 1px dotted black;border-radius: 0.25em;box-sizing: border-box;margin-bottom: 0.5em;}#sk-container-id-3 div.sk-estimator:hover {background-color: #d4ebff;}#sk-container-id-3 div.sk-parallel-item::after {content: \"\";width: 100%;border-bottom: 1px solid gray;flex-grow: 1;}#sk-container-id-3 div.sk-label:hover label.sk-toggleable__label {background-color: #d4ebff;}#sk-container-id-3 div.sk-serial::before {content: \"\";position: absolute;border-left: 1px solid gray;box-sizing: border-box;top: 0;bottom: 0;left: 50%;z-index: 0;}#sk-container-id-3 div.sk-serial {display: flex;flex-direction: column;align-items: center;background-color: white;padding-right: 0.2em;padding-left: 0.2em;position: relative;}#sk-container-id-3 div.sk-item {position: relative;z-index: 1;}#sk-container-id-3 div.sk-parallel {display: flex;align-items: stretch;justify-content: center;background-color: white;position: relative;}#sk-container-id-3 div.sk-item::before, #sk-container-id-3 div.sk-parallel-item::before {content: \"\";position: absolute;border-left: 1px solid gray;box-sizing: border-box;top: 0;bottom: 0;left: 50%;z-index: -1;}#sk-container-id-3 div.sk-parallel-item {display: flex;flex-direction: column;z-index: 1;position: relative;background-color: white;}#sk-container-id-3 div.sk-parallel-item:first-child::after {align-self: flex-end;width: 50%;}#sk-container-id-3 div.sk-parallel-item:last-child::after {align-self: flex-start;width: 50%;}#sk-container-id-3 div.sk-parallel-item:only-child::after {width: 0;}#sk-container-id-3 div.sk-dashed-wrapped {border: 1px dashed gray;margin: 0 0.4em 0.5em 0.4em;box-sizing: border-box;padding-bottom: 0.4em;background-color: white;}#sk-container-id-3 div.sk-label label {font-family: monospace;font-weight: bold;display: inline-block;line-height: 1.2em;}#sk-container-id-3 div.sk-label-container {text-align: center;}#sk-container-id-3 div.sk-container {/* jupyter's `normalize.less` sets `[hidden] { display: none; }` but bootstrap.min.css set `[hidden] { display: none !important; }` so we also need the `!important` here to be able to override the default hidden behavior on the sphinx rendered scikit-learn.org. See: https://github.com/scikit-learn/scikit-learn/issues/21755 */display: inline-block !important;position: relative;}#sk-container-id-3 div.sk-text-repr-fallback {display: none;}</style><div id=\"sk-container-id-3\" class=\"sk-top-container\"><div class=\"sk-text-repr-fallback\"><pre>LogisticRegression(class_weight=&#x27;balanced&#x27;, max_iter=1000, random_state=42)</pre><b>In a Jupyter environment, please rerun this cell to show the HTML representation or trust the notebook. <br />On GitHub, the HTML representation is unable to render, please try loading this page with nbviewer.org.</b></div><div class=\"sk-container\" hidden><div class=\"sk-item\"><div class=\"sk-estimator sk-toggleable\"><input class=\"sk-toggleable__control sk-hidden--visually\" id=\"sk-estimator-id-3\" type=\"checkbox\" checked><label for=\"sk-estimator-id-3\" class=\"sk-toggleable__label sk-toggleable__label-arrow\">LogisticRegression</label><div class=\"sk-toggleable__content\"><pre>LogisticRegression(class_weight=&#x27;balanced&#x27;, max_iter=1000, random_state=42)</pre></div></div></div></div></div>"
      ],
      "text/plain": [
       "LogisticRegression(class_weight='balanced', max_iter=1000, random_state=42)"
      ]
     },
     "execution_count": 39,
     "metadata": {},
     "output_type": "execute_result"
    }
   ],
   "source": [
    "# Train baseline logistic regression\n",
    "logreg_model = LogisticRegression(\n",
    "    penalty=\"l2\",\n",
    "    C=1.0,\n",
    "    solver=\"lbfgs\",\n",
    "    class_weight=\"balanced\",\n",
    "    max_iter=1000,\n",
    "    random_state=42\n",
    ")\n",
    "logreg_model.fit(X_train, y_train)\n"
   ]
  },
  {
   "cell_type": "code",
   "execution_count": null,
   "id": "a408decb-58d7-4370-a2ca-ce86f1f634b0",
   "metadata": {},
   "outputs": [],
   "source": []
  },
  {
   "cell_type": "code",
   "execution_count": 40,
   "id": "57a323aa-6f91-464c-8737-bb6d553e4b5c",
   "metadata": {},
   "outputs": [],
   "source": [
    "# Define hyperparameter grid\n",
    "param_grid = { \"C\": [0.01, 0.1, 1, 10, 100] }\n",
    "\n",
    "grid = GridSearchCV(\n",
    "    estimator=LogisticRegression(\n",
    "        penalty=\"l2\",\n",
    "        solver=\"lbfgs\",\n",
    "        class_weight=\"balanced\",\n",
    "        max_iter=1000,\n",
    "        random_state=42\n",
    "    ),\n",
    "    param_grid=param_grid,\n",
    "    scoring=\"f1\",\n",
    "    cv=5\n",
    ")\n",
    "\n",
    "grid.fit(X_train, y_train)\n",
    "best_model = grid.best_estimator_\n"
   ]
  },
  {
   "cell_type": "code",
   "execution_count": null,
   "id": "2bfc62d0-00fb-434d-b932-df4469e3547e",
   "metadata": {},
   "outputs": [],
   "source": []
  },
  {
   "cell_type": "code",
   "execution_count": 41,
   "id": "481de290-cd9c-428f-bf23-2407f83a51f8",
   "metadata": {},
   "outputs": [
    {
     "name": "stdout",
     "output_type": "stream",
     "text": [
      "📊 Baseline model (C=1):\n",
      "              precision    recall  f1-score   support\n",
      "\n",
      "       False       0.71      0.64      0.67      1360\n",
      "        True       0.46      0.54      0.50       782\n",
      "\n",
      "    accuracy                           0.60      2142\n",
      "   macro avg       0.59      0.59      0.59      2142\n",
      "weighted avg       0.62      0.60      0.61      2142\n",
      "\n",
      "\n",
      "✅ Tuned model (best C):\n",
      "              precision    recall  f1-score   support\n",
      "\n",
      "       False       0.71      0.64      0.67      1360\n",
      "        True       0.46      0.54      0.50       782\n",
      "\n",
      "    accuracy                           0.60      2142\n",
      "   macro avg       0.59      0.59      0.59      2142\n",
      "weighted avg       0.62      0.60      0.61      2142\n",
      "\n"
     ]
    }
   ],
   "source": [
    "# Compare baseline vs tuned\n",
    "print(\"📊 Baseline model (C=1):\")\n",
    "print(classification_report(y_val, logreg_model.predict(X_val)))\n",
    "\n",
    "print(\"\\n✅ Tuned model (best C):\")\n",
    "print(classification_report(y_val, best_model.predict(X_val)))\n"
   ]
  },
  {
   "cell_type": "code",
   "execution_count": null,
   "id": "c6917890-dbaf-47ff-ba13-1b5f493e60dc",
   "metadata": {},
   "outputs": [],
   "source": []
  },
  {
   "cell_type": "code",
   "execution_count": 42,
   "id": "2014cc09-1006-4fb6-a873-7562689e34a2",
   "metadata": {},
   "outputs": [
    {
     "name": "stdout",
     "output_type": "stream",
     "text": [
      "🔍 Logistic Regression Coefficients (sorted by influence):\n"
     ]
    },
    {
     "data": {
      "text/plain": [
       "targets                                0.052451\n",
       "rolling_fpts_diff_dk                   0.030082\n",
       "fpts_3wk_avg                           0.016008\n",
       "avg_separation                         0.015504\n",
       "avg_intended_air_yards                 0.007778\n",
       "percent_share_of_intended_air_yards    0.001482\n",
       "dtype: float64"
      ]
     },
     "metadata": {},
     "output_type": "display_data"
    }
   ],
   "source": [
    "# View coefficients of tuned model\n",
    "coefficients = pd.Series(\n",
    "    best_model.coef_[0],\n",
    "    index=X_train.columns\n",
    ").sort_values(ascending=False)\n",
    "\n",
    "print(\"🔍 Logistic Regression Coefficients (sorted by influence):\")\n",
    "display(coefficients)\n"
   ]
  },
  {
   "cell_type": "code",
   "execution_count": null,
   "id": "f098b0c0-66bd-4cb7-8f1a-1177310c5d45",
   "metadata": {},
   "outputs": [],
   "source": []
  },
  {
   "cell_type": "code",
   "execution_count": 43,
   "id": "756164a9-ca4e-4bed-a9e5-3f2812f211d0",
   "metadata": {},
   "outputs": [
    {
     "name": "stdout",
     "output_type": "stream",
     "text": [
      "📅 Final Test Set (2024) Evaluation:\n",
      "              precision    recall  f1-score   support\n",
      "\n",
      "       False       0.72      0.64      0.68      1242\n",
      "        True       0.47      0.56      0.51       712\n",
      "\n",
      "    accuracy                           0.61      1954\n",
      "   macro avg       0.59      0.60      0.59      1954\n",
      "weighted avg       0.63      0.61      0.62      1954\n",
      "\n",
      "🧮 ROC AUC (2024): 0.638\n"
     ]
    }
   ],
   "source": [
    "# Predict labels and probabilities on test set\n",
    "y_pred_test = best_model.predict(X_test_final)\n",
    "y_proba_test = best_model.predict_proba(X_test_final)[:, 1]\n",
    "\n",
    "# Print classification report\n",
    "print(\"📅 Final Test Set (2024) Evaluation:\")\n",
    "print(classification_report(y_test_final, y_pred_test))\n",
    "\n",
    "# AUC\n",
    "auc_test = roc_auc_score(y_test_final, y_proba_test)\n",
    "print(f\"🧮 ROC AUC (2024): {auc_test:.3f}\")\n"
   ]
  },
  {
   "cell_type": "code",
   "execution_count": null,
   "id": "e30fdbc9-85c3-486e-ae06-80808e2737b3",
   "metadata": {},
   "outputs": [],
   "source": []
  },
  {
   "cell_type": "code",
   "execution_count": 44,
   "id": "2560ae1e-64ad-4587-8908-56250e5b356c",
   "metadata": {},
   "outputs": [
    {
     "data": {
      "image/png": "[encoded data removed]",
      "text/plain": [
       "<Figure size 600x600 with 1 Axes>"
      ]
     },
     "metadata": {},
     "output_type": "display_data"
    },
    {
     "data": {
      "image/png": "[encoded data removed]",
      "text/plain": [
       "<Figure size 500x400 with 2 Axes>"
      ]
     },
     "metadata": {},
     "output_type": "display_data"
    }
   ],
   "source": [
    "# Plot ROC curve\n",
    "fpr, tpr, _ = roc_curve(y_test_final, y_proba_test)\n",
    "plt.figure(figsize=(6, 6))\n",
    "plt.plot(fpr, tpr, label=f'AUC = {auc_test:.3f}')\n",
    "plt.plot([0, 1], [0, 1], 'k--')\n",
    "plt.xlabel(\"False Positive Rate\")\n",
    "plt.ylabel(\"True Positive Rate\")\n",
    "plt.title(\"ROC Curve (2024 Test Set)\")\n",
    "plt.legend()\n",
    "plt.grid()\n",
    "plt.show()\n",
    "\n",
    "# Plot confusion matrix\n",
    "cm = confusion_matrix(y_test_final, y_pred_test)\n",
    "plt.figure(figsize=(5, 4))\n",
    "sns.heatmap(cm, annot=True, fmt=\"d\", cmap=\"Blues\", xticklabels=[\"Pred 0\", \"Pred 1\"], yticklabels=[\"True 0\", \"True 1\"])\n",
    "plt.xlabel(\"Predicted Label\")\n",
    "plt.ylabel(\"True Label\")\n",
    "plt.title(\"Confusion Matrix (2024 Test Set)\")\n",
    "plt.tight_layout()\n",
    "plt.show()\n"
   ]
  },
  {
   "cell_type": "code",
   "execution_count": 45,
   "id": "ecb713cd-18f1-4d18-80ef-ce594ac07407",
   "metadata": {},
   "outputs": [],
   "source": [
    "### End: experimental logistic regression modeling  ###"
   ]
  },
  {
   "cell_type": "code",
   "execution_count": null,
   "id": "01318411-5bf6-44a2-87e5-d73e1bc475ae",
   "metadata": {},
   "outputs": [],
   "source": []
  },
  {
   "cell_type": "code",
   "execution_count": 46,
   "id": "7285e494-72bd-4329-bb7a-010aa0e7668b",
   "metadata": {},
   "outputs": [],
   "source": [
    "### Begin: value-based logistic regression classifier model  ###"
   ]
  },
  {
   "cell_type": "code",
   "execution_count": 47,
   "id": "e6742d97-d54d-460e-9699-ce1adacd7f72",
   "metadata": {},
   "outputs": [],
   "source": [
    "# model 2: value model with the same target but new features\n",
    "\n",
    "# Define cleaned value-based feature list for modeling\n",
    "value_based_features = [\n",
    "    'Total', 'dk_salary',\n",
    "    'value_ratio_dk', 'value_ratio_dk_3wk', 'value_ratio_dk_5wk', 'value_ratio_dk_7wk',\n",
    "    'value_ratio_dk_90th_percentile_3wk', 'value_ratio_dk_90th_percentile_5wk',\n",
    "    'value_ratio_dk_90th_percentile_7wk',\n",
    "   \n",
    "]"
   ]
  },
  {
   "cell_type": "code",
   "execution_count": null,
   "id": "379df509-0ee9-4833-b864-75e2faf2af39",
   "metadata": {},
   "outputs": [],
   "source": []
  },
  {
   "cell_type": "code",
   "execution_count": 48,
   "id": "81aaaf4d-1114-44b9-85ab-1bc7cfd80834",
   "metadata": {},
   "outputs": [],
   "source": [
    "# model 2: value-based model\n",
    "\n",
    "# apply the temporal lagging function\n",
    "wr_model_value_df = create_modeling_dataframe(wr_df, value_based_features)\n"
   ]
  },
  {
   "cell_type": "code",
   "execution_count": null,
   "id": "71a38843-b300-4e82-a1d2-543fbafed07a",
   "metadata": {},
   "outputs": [],
   "source": []
  },
  {
   "cell_type": "code",
   "execution_count": 49,
   "id": "9d3a8605-dbe4-4dda-81c6-b5a55e9eaf03",
   "metadata": {},
   "outputs": [],
   "source": [
    "# model 2: value-based model\n",
    "\n",
    "# define your target variable and predictors\n",
    "X = wr_model_value_df[value_based_features].copy()\n",
    "y = wr_model_value_df[\"hit_value_dk\"].copy()\n"
   ]
  },
  {
   "cell_type": "code",
   "execution_count": null,
   "id": "5098cd69-673f-45e2-ae8d-78d2af289ab9",
   "metadata": {},
   "outputs": [],
   "source": []
  },
  {
   "cell_type": "code",
   "execution_count": 50,
   "id": "776eb056-5a00-4c8f-a2ae-d03e6bd41f51",
   "metadata": {},
   "outputs": [],
   "source": [
    "# model 2: value-based model\n",
    "\n",
    "# Train / Val / Test Split with Null Checks\n",
    "\n",
    "# Create season masks\n",
    "mask_2024 = wr_model_value_df[\"season\"] == 2024\n",
    "mask_2023 = wr_model_value_df[\"season\"] == 2023\n",
    "mask_pre_2023 = wr_model_value_df[\"season\"] < 2023\n",
    "\n",
    "# Null check for all features and target\n",
    "mask_all_valid = X.notnull().all(axis=1) & y.notnull()\n",
    "\n",
    "# Define split subsets\n",
    "mask_train = mask_all_valid & mask_pre_2023\n",
    "mask_val = mask_all_valid & mask_2023\n",
    "mask_test = mask_all_valid & mask_2024\n",
    "\n",
    "X_train = X[mask_train]\n",
    "y_train = y[mask_train]\n",
    "\n",
    "X_val = X[mask_val]\n",
    "y_val = y[mask_val]\n",
    "\n",
    "X_test_final = X[mask_test]\n",
    "y_test_final = y[mask_test]\n"
   ]
  },
  {
   "cell_type": "code",
   "execution_count": null,
   "id": "4d8bc243-93d2-42b2-b1d1-9467225a89e0",
   "metadata": {},
   "outputs": [],
   "source": []
  },
  {
   "cell_type": "code",
   "execution_count": 51,
   "id": "75da2d1b-a93f-45b2-a47d-642870da81d7",
   "metadata": {},
   "outputs": [
    {
     "data": {
      "text/html": [
       "<style>#sk-container-id-4 {color: black;background-color: white;}#sk-container-id-4 pre{padding: 0;}#sk-container-id-4 div.sk-toggleable {background-color: white;}#sk-container-id-4 label.sk-toggleable__label {cursor: pointer;display: block;width: 100%;margin-bottom: 0;padding: 0.3em;box-sizing: border-box;text-align: center;}#sk-container-id-4 label.sk-toggleable__label-arrow:before {content: \"▸\";float: left;margin-right: 0.25em;color: #696969;}#sk-container-id-4 label.sk-toggleable__label-arrow:hover:before {color: black;}#sk-container-id-4 div.sk-estimator:hover label.sk-toggleable__label-arrow:before {color: black;}#sk-container-id-4 div.sk-toggleable__content {max-height: 0;max-width: 0;overflow: hidden;text-align: left;background-color: #f0f8ff;}#sk-container-id-4 div.sk-toggleable__content pre {margin: 0.2em;color: black;border-radius: 0.25em;background-color: #f0f8ff;}#sk-container-id-4 input.sk-toggleable__control:checked~div.sk-toggleable__content {max-height: 200px;max-width: 100%;overflow: auto;}#sk-container-id-4 input.sk-toggleable__control:checked~label.sk-toggleable__label-arrow:before {content: \"▾\";}#sk-container-id-4 div.sk-estimator input.sk-toggleable__control:checked~label.sk-toggleable__label {background-color: #d4ebff;}#sk-container-id-4 div.sk-label input.sk-toggleable__control:checked~label.sk-toggleable__label {background-color: #d4ebff;}#sk-container-id-4 input.sk-hidden--visually {border: 0;clip: rect(1px 1px 1px 1px);clip: rect(1px, 1px, 1px, 1px);height: 1px;margin: -1px;overflow: hidden;padding: 0;position: absolute;width: 1px;}#sk-container-id-4 div.sk-estimator {font-family: monospace;background-color: #f0f8ff;border: 1px dotted black;border-radius: 0.25em;box-sizing: border-box;margin-bottom: 0.5em;}#sk-container-id-4 div.sk-estimator:hover {background-color: #d4ebff;}#sk-container-id-4 div.sk-parallel-item::after {content: \"\";width: 100%;border-bottom: 1px solid gray;flex-grow: 1;}#sk-container-id-4 div.sk-label:hover label.sk-toggleable__label {background-color: #d4ebff;}#sk-container-id-4 div.sk-serial::before {content: \"\";position: absolute;border-left: 1px solid gray;box-sizing: border-box;top: 0;bottom: 0;left: 50%;z-index: 0;}#sk-container-id-4 div.sk-serial {display: flex;flex-direction: column;align-items: center;background-color: white;padding-right: 0.2em;padding-left: 0.2em;position: relative;}#sk-container-id-4 div.sk-item {position: relative;z-index: 1;}#sk-container-id-4 div.sk-parallel {display: flex;align-items: stretch;justify-content: center;background-color: white;position: relative;}#sk-container-id-4 div.sk-item::before, #sk-container-id-4 div.sk-parallel-item::before {content: \"\";position: absolute;border-left: 1px solid gray;box-sizing: border-box;top: 0;bottom: 0;left: 50%;z-index: -1;}#sk-container-id-4 div.sk-parallel-item {display: flex;flex-direction: column;z-index: 1;position: relative;background-color: white;}#sk-container-id-4 div.sk-parallel-item:first-child::after {align-self: flex-end;width: 50%;}#sk-container-id-4 div.sk-parallel-item:last-child::after {align-self: flex-start;width: 50%;}#sk-container-id-4 div.sk-parallel-item:only-child::after {width: 0;}#sk-container-id-4 div.sk-dashed-wrapped {border: 1px dashed gray;margin: 0 0.4em 0.5em 0.4em;box-sizing: border-box;padding-bottom: 0.4em;background-color: white;}#sk-container-id-4 div.sk-label label {font-family: monospace;font-weight: bold;display: inline-block;line-height: 1.2em;}#sk-container-id-4 div.sk-label-container {text-align: center;}#sk-container-id-4 div.sk-container {/* jupyter's `normalize.less` sets `[hidden] { display: none; }` but bootstrap.min.css set `[hidden] { display: none !important; }` so we also need the `!important` here to be able to override the default hidden behavior on the sphinx rendered scikit-learn.org. See: https://github.com/scikit-learn/scikit-learn/issues/21755 */display: inline-block !important;position: relative;}#sk-container-id-4 div.sk-text-repr-fallback {display: none;}</style><div id=\"sk-container-id-4\" class=\"sk-top-container\"><div class=\"sk-text-repr-fallback\"><pre>LogisticRegression(class_weight=&#x27;balanced&#x27;, max_iter=1000, random_state=42)</pre><b>In a Jupyter environment, please rerun this cell to show the HTML representation or trust the notebook. <br />On GitHub, the HTML representation is unable to render, please try loading this page with nbviewer.org.</b></div><div class=\"sk-container\" hidden><div class=\"sk-item\"><div class=\"sk-estimator sk-toggleable\"><input class=\"sk-toggleable__control sk-hidden--visually\" id=\"sk-estimator-id-4\" type=\"checkbox\" checked><label for=\"sk-estimator-id-4\" class=\"sk-toggleable__label sk-toggleable__label-arrow\">LogisticRegression</label><div class=\"sk-toggleable__content\"><pre>LogisticRegression(class_weight=&#x27;balanced&#x27;, max_iter=1000, random_state=42)</pre></div></div></div></div></div>"
      ],
      "text/plain": [
       "LogisticRegression(class_weight='balanced', max_iter=1000, random_state=42)"
      ]
     },
     "execution_count": 51,
     "metadata": {},
     "output_type": "execute_result"
    }
   ],
   "source": [
    "# model 2: value-based model\n",
    "\n",
    "# Train Baseline Logistic Regression Model\n",
    "logreg_model = LogisticRegression(\n",
    "    penalty=\"l2\",\n",
    "    C=1.0,\n",
    "    solver=\"lbfgs\",\n",
    "    class_weight=\"balanced\",\n",
    "    max_iter=1000,\n",
    "    random_state=42\n",
    ")\n",
    "\n",
    "logreg_model.fit(X_train, y_train)\n"
   ]
  },
  {
   "cell_type": "code",
   "execution_count": null,
   "id": "870e8b27-ddd7-456a-a10e-429b80054d20",
   "metadata": {},
   "outputs": [],
   "source": []
  },
  {
   "cell_type": "code",
   "execution_count": 52,
   "id": "c620c210-fd9b-4de4-b16f-ef7e66db196b",
   "metadata": {},
   "outputs": [],
   "source": [
    "# model 2: value-based model\n",
    "\n",
    "# Hyperparameter Tuning with GridSearchCV\n",
    "param_grid = {\"C\": [0.01, 0.1, 1, 10, 100]}\n",
    "\n",
    "grid = GridSearchCV(\n",
    "    estimator=LogisticRegression(\n",
    "        penalty=\"l2\",\n",
    "        solver=\"lbfgs\",\n",
    "        class_weight=\"balanced\",\n",
    "        max_iter=1000,\n",
    "        random_state=42\n",
    "    ),\n",
    "    param_grid=param_grid,\n",
    "    scoring=\"f1\",\n",
    "    cv=5\n",
    ")\n",
    "\n",
    "grid.fit(X_train, y_train)\n",
    "best_model = grid.best_estimator_\n"
   ]
  },
  {
   "cell_type": "code",
   "execution_count": null,
   "id": "0a208b7f-6994-4327-8686-85b29d04aef9",
   "metadata": {},
   "outputs": [],
   "source": []
  },
  {
   "cell_type": "code",
   "execution_count": 53,
   "id": "0f5e4d45-584c-4976-ab1c-73f30f0cc94e",
   "metadata": {},
   "outputs": [
    {
     "name": "stdout",
     "output_type": "stream",
     "text": [
      "📊 Baseline model (C=1):\n",
      "              precision    recall  f1-score   support\n",
      "\n",
      "       False       0.76      0.61      0.68      1360\n",
      "        True       0.50      0.67      0.57       782\n",
      "\n",
      "    accuracy                           0.63      2142\n",
      "   macro avg       0.63      0.64      0.63      2142\n",
      "weighted avg       0.67      0.63      0.64      2142\n",
      "\n",
      "\n",
      "✅ Tuned model (best C):\n",
      "              precision    recall  f1-score   support\n",
      "\n",
      "       False       0.76      0.61      0.68      1360\n",
      "        True       0.50      0.67      0.57       782\n",
      "\n",
      "    accuracy                           0.63      2142\n",
      "   macro avg       0.63      0.64      0.63      2142\n",
      "weighted avg       0.67      0.63      0.64      2142\n",
      "\n"
     ]
    }
   ],
   "source": [
    "# model 2: value-based model\n",
    "# Evaluate on Validation Set\n",
    "\n",
    "# Baseline\n",
    "print(\"📊 Baseline model (C=1):\")\n",
    "print(classification_report(y_val, logreg_model.predict(X_val)))\n",
    "\n",
    "# Tuned\n",
    "print(\"\\n✅ Tuned model (best C):\")\n",
    "print(classification_report(y_val, best_model.predict(X_val)))\n"
   ]
  },
  {
   "cell_type": "code",
   "execution_count": null,
   "id": "b62bdb03-d948-4383-ae9e-9ca9eb723289",
   "metadata": {},
   "outputs": [],
   "source": []
  },
  {
   "cell_type": "code",
   "execution_count": 54,
   "id": "d07efe98-a21e-42de-98b6-90a16706cd93",
   "metadata": {},
   "outputs": [
    {
     "name": "stdout",
     "output_type": "stream",
     "text": [
      "🔍 Logistic Regression Coefficients (sorted by influence):\n"
     ]
    },
    {
     "data": {
      "text/plain": [
       "value_ratio_dk                        0.082590\n",
       "value_ratio_dk_3wk                    0.065024\n",
       "value_ratio_dk_5wk                    0.050340\n",
       "value_ratio_dk_7wk                    0.045847\n",
       "value_ratio_dk_90th_percentile_3wk    0.003192\n",
       "dk_salary                             0.000264\n",
       "value_ratio_dk_90th_percentile_5wk   -0.000634\n",
       "value_ratio_dk_90th_percentile_7wk   -0.001038\n",
       "Total                                -0.029699\n",
       "dtype: float64"
      ]
     },
     "metadata": {},
     "output_type": "display_data"
    }
   ],
   "source": [
    "# model 2: value-based model\n",
    "\n",
    "# View Logistic Regression Coefficients\n",
    "coefficients = pd.Series(\n",
    "    best_model.coef_[0],\n",
    "    index=X_train.columns\n",
    ").sort_values(ascending=False)\n",
    "\n",
    "print(\"🔍 Logistic Regression Coefficients (sorted by influence):\")\n",
    "display(coefficients)\n",
    "\n"
   ]
  },
  {
   "cell_type": "code",
   "execution_count": null,
   "id": "849e7d95-d63a-4200-97fc-b175a95a9644",
   "metadata": {},
   "outputs": [],
   "source": []
  },
  {
   "cell_type": "code",
   "execution_count": 55,
   "id": "13690d79-1586-4fec-9ab3-d8cb542ca079",
   "metadata": {},
   "outputs": [
    {
     "name": "stdout",
     "output_type": "stream",
     "text": [
      "📊 Final Test Set (2024) Evaluation:\n",
      "              precision    recall  f1-score   support\n",
      "\n",
      "       False       0.80      0.59      0.68      1242\n",
      "        True       0.51      0.74      0.61       712\n",
      "\n",
      "    accuracy                           0.65      1954\n",
      "   macro avg       0.66      0.67      0.64      1954\n",
      "weighted avg       0.70      0.65      0.65      1954\n",
      "\n",
      "📈 ROC AUC (2024): 0.719\n"
     ]
    }
   ],
   "source": [
    "# model 2: value-based model\n",
    "# Final Evaluation on 2024 Test Set\n",
    "\n",
    "# Predict labels and probabilities\n",
    "y_pred_test = best_model.predict(X_test_final)\n",
    "y_proba_test = best_model.predict_proba(X_test_final)[:, 1]\n",
    "\n",
    "# Print classification report\n",
    "print(\"📊 Final Test Set (2024) Evaluation:\")\n",
    "print(classification_report(y_test_final, y_pred_test))\n",
    "\n",
    "# AUC\n",
    "auc_test = roc_auc_score(y_test_final, y_proba_test)\n",
    "print(f\"📈 ROC AUC (2024): {auc_test:.3f}\")\n"
   ]
  },
  {
   "cell_type": "code",
   "execution_count": null,
   "id": "d22d438b-a05e-468d-9ff7-d09e0b8bf4ff",
   "metadata": {},
   "outputs": [],
   "source": []
  },
  {
   "cell_type": "code",
   "execution_count": 56,
   "id": "accb68db-9df2-4f63-b3ef-25e42432a8c2",
   "metadata": {},
   "outputs": [
    {
     "data": {
      "image/png": "[encoded data removed]",
      "text/plain": [
       "<Figure size 600x600 with 1 Axes>"
      ]
     },
     "metadata": {},
     "output_type": "display_data"
    }
   ],
   "source": [
    "# model 2: value-based model\n",
    "\n",
    "# ROC curve\n",
    "fpr, tpr, _ = roc_curve(y_test_final, y_proba_test)\n",
    "\n",
    "plt.figure(figsize=(6, 6))\n",
    "plt.plot(fpr, tpr, label=f\"AUC = {auc_test:.3f}\")\n",
    "plt.plot([0, 1], [0, 1], linestyle=\"--\", color=\"black\")\n",
    "plt.xlabel(\"False Positive Rate\")\n",
    "plt.ylabel(\"True Positive Rate\")\n",
    "plt.title(\"ROC Curve (2024 Test Set)\")\n",
    "plt.legend(loc=\"lower right\")\n",
    "plt.grid(True)\n",
    "plt.show()\n"
   ]
  },
  {
   "cell_type": "code",
   "execution_count": null,
   "id": "981950cd-f159-4763-b746-fda86b8284de",
   "metadata": {},
   "outputs": [],
   "source": []
  },
  {
   "cell_type": "code",
   "execution_count": 57,
   "id": "8f6bdccb-b682-4a7a-ae52-c7c1e2cc14ca",
   "metadata": {},
   "outputs": [
    {
     "data": {
      "image/png": "[encoded data removed]",
      "text/plain": [
       "<Figure size 600x500 with 2 Axes>"
      ]
     },
     "metadata": {},
     "output_type": "display_data"
    }
   ],
   "source": [
    "# model 2: value-based model\n",
    "\n",
    "# Confusion Matrix\n",
    "cm = confusion_matrix(y_test_final, y_pred_test)\n",
    "plt.figure(figsize=(6, 5))\n",
    "sns.heatmap(cm, annot=True, fmt=\"d\", cmap=\"Blues\")\n",
    "plt.xlabel(\"Predicted Label\")\n",
    "plt.ylabel(\"True Label\")\n",
    "plt.title(\"Confusion Matrix (2024 Test Set)\")\n",
    "plt.show()\n"
   ]
  },
  {
   "cell_type": "code",
   "execution_count": 58,
   "id": "f5fbc07e-ccd8-4bcb-94c2-213e1b3a07e6",
   "metadata": {},
   "outputs": [],
   "source": [
    "### End: value-based logistic regression classifier model ###"
   ]
  },
  {
   "cell_type": "code",
   "execution_count": null,
   "id": "94224e82-5d02-432b-b756-0fc1a4a6a5ab",
   "metadata": {},
   "outputs": [],
   "source": []
  },
  {
   "cell_type": "code",
   "execution_count": 59,
   "id": "ee1a97e0-af9d-4b3c-9ee4-d456aaf55453",
   "metadata": {},
   "outputs": [],
   "source": [
    "### Begin: performance-based logistic regression classifier models ###"
   ]
  },
  {
   "cell_type": "code",
   "execution_count": 60,
   "id": "9e379c0e-c009-40f7-b0f4-4c0c220f600b",
   "metadata": {},
   "outputs": [],
   "source": [
    "# model 3: peformance-based \n",
    "\n",
    "# apply the temporal lagging function\n",
    "wr_model_perf_df = create_modeling_dataframe(wr_df, value_based_features)\n"
   ]
  },
  {
   "cell_type": "code",
   "execution_count": null,
   "id": "85240f39-210f-459e-bd15-da1431d19bf3",
   "metadata": {},
   "outputs": [],
   "source": []
  },
  {
   "cell_type": "code",
   "execution_count": 61,
   "id": "753706c7-2720-4da7-84a5-025d0e113634",
   "metadata": {},
   "outputs": [],
   "source": [
    "# model 3: peformance-based \n",
    "\n",
    "# Define and prepare modeling dataframe\n",
    "performance_features = [\n",
    "    'rec_3wk_avg', 'rec_yds_5wk_avg', 'rec_air_yards_7wk_avg', 'tgt_3wk_avg',\n",
    "    'tgt_3wk_delta', 'rec_3wk_delta', 'rec_yds_3wk_delta',\n",
    "    'targets_75th_percentile_3wk', 'rec_75th_percentile_3wk', 'receiving_yards_75th_percentile_3wk',\n",
    "    'rec_7wk_avg_z', 'rec_air_yards_7wk_avg_clipped_z', 'target_share_z'\n",
    "]\n"
   ]
  },
  {
   "cell_type": "code",
   "execution_count": null,
   "id": "fed42c85-c25d-4073-bd68-ddb167bcc8a8",
   "metadata": {},
   "outputs": [],
   "source": []
  },
  {
   "cell_type": "code",
   "execution_count": 62,
   "id": "172b7ccb-f22c-44e7-b554-88aa51030d58",
   "metadata": {},
   "outputs": [],
   "source": [
    "# model 3: peformance-based \n",
    "\n",
    "# Redefine the target column using the modeling dataframe\n",
    "fpts_threshold = 10\n",
    "X = wr_model_perf_df[performance_features].copy()\n",
    "y = (wr_model_perf_df['fpts'] >= fpts_threshold).astype(int)\n",
    "\n"
   ]
  },
  {
   "cell_type": "code",
   "execution_count": null,
   "id": "ef44c097-587b-4ecf-92be-a9e26cc7020e",
   "metadata": {},
   "outputs": [],
   "source": []
  },
  {
   "cell_type": "code",
   "execution_count": 63,
   "id": "70702238-2113-4e00-a586-5144bd194f9d",
   "metadata": {},
   "outputs": [],
   "source": [
    "# model 3: peformance-based \n",
    "\n",
    "# Add season info for splitting\n",
    "X['season'] = wr_model_df['season']\n",
    "y.index = X.index\n",
    "\n",
    "# Split by season\n",
    "X_train = X[X['season'] < 2023].drop(columns='season')\n",
    "y_train = y[X['season'] < 2023]\n",
    "\n",
    "X_val = X[X['season'] == 2023].drop(columns='season')\n",
    "y_val = y[X['season'] == 2023]\n",
    "\n",
    "X_test = X[X['season'] == 2024].drop(columns='season')\n",
    "y_test = y[X['season'] == 2024]"
   ]
  },
  {
   "cell_type": "code",
   "execution_count": null,
   "id": "5a197437-e558-42ff-9042-7e6a4efc22db",
   "metadata": {},
   "outputs": [],
   "source": []
  },
  {
   "cell_type": "code",
   "execution_count": 64,
   "id": "ec2f8c75-9520-4bbc-ac0d-ca2fc07c1038",
   "metadata": {},
   "outputs": [],
   "source": [
    "# model 3: peformance-based \n",
    "# Train Baseline and Tuned Logistic Regression\n",
    "\n",
    "# Baseline model (C=1)\n",
    "logreg_model = LogisticRegression(C=1.0, penalty='l2', solver='lbfgs', class_weight='balanced', max_iter=1000, random_state=42)\n",
    "logreg_model.fit(X_train, y_train)\n",
    "\n",
    "# Tuned model\n",
    "param_grid = {'C': [0.01, 0.1, 1, 10, 100]}\n",
    "grid = GridSearchCV(\n",
    "    estimator=LogisticRegression(penalty=\"l2\", solver=\"lbfgs\", class_weight=\"balanced\", max_iter=1000, random_state=42),\n",
    "    param_grid=param_grid,\n",
    "    scoring=\"f1\",\n",
    "    cv=5\n",
    ")\n",
    "grid.fit(X_train, y_train)\n",
    "best_model = grid.best_estimator_\n"
   ]
  },
  {
   "cell_type": "code",
   "execution_count": null,
   "id": "c46be3e6-b001-476a-abfb-1f3a39a51f21",
   "metadata": {},
   "outputs": [],
   "source": []
  },
  {
   "cell_type": "code",
   "execution_count": 65,
   "id": "df3a4705-887c-4093-a55f-a4ac9377b3f0",
   "metadata": {},
   "outputs": [
    {
     "name": "stdout",
     "output_type": "stream",
     "text": [
      "📊 Baseline model (C=1):\n",
      "              precision    recall  f1-score   support\n",
      "\n",
      "           0       0.95      0.84      0.89      1921\n",
      "           1       0.51      0.78      0.62       412\n",
      "\n",
      "    accuracy                           0.83      2333\n",
      "   macro avg       0.73      0.81      0.75      2333\n",
      "weighted avg       0.87      0.83      0.84      2333\n",
      "\n",
      "\n",
      "✅ Tuned model (best C):\n",
      "              precision    recall  f1-score   support\n",
      "\n",
      "           0       0.95      0.84      0.89      1921\n",
      "           1       0.51      0.78      0.61       412\n",
      "\n",
      "    accuracy                           0.83      2333\n",
      "   macro avg       0.73      0.81      0.75      2333\n",
      "weighted avg       0.87      0.83      0.84      2333\n",
      "\n",
      "\n",
      "🔍 Logistic Regression Coefficients:\n"
     ]
    },
    {
     "data": {
      "text/plain": [
       "receiving_yards_75th_percentile_3wk    1.262874\n",
       "target_share_z                         0.873058\n",
       "rec_75th_percentile_3wk                0.538803\n",
       "rec_air_yards_7wk_avg_clipped_z        0.449838\n",
       "rec_3wk_delta                          0.144293\n",
       "rec_7wk_avg_z                          0.113229\n",
       "rec_3wk_avg                            0.056507\n",
       "rec_yds_3wk_delta                      0.033472\n",
       "tgt_3wk_avg                            0.002140\n",
       "rec_yds_5wk_avg                        0.000432\n",
       "rec_air_yards_7wk_avg                 -0.009289\n",
       "tgt_3wk_delta                         -0.107379\n",
       "targets_75th_percentile_3wk           -0.179681\n",
       "dtype: float64"
      ]
     },
     "metadata": {},
     "output_type": "display_data"
    }
   ],
   "source": [
    "# model 3: peformance-based \n",
    "# Evaluate on Validation Set\n",
    "print(\"📊 Baseline model (C=1):\")\n",
    "print(classification_report(y_val, logreg_model.predict(X_val)))\n",
    "\n",
    "print(\"\\n✅ Tuned model (best C):\")\n",
    "print(classification_report(y_val, best_model.predict(X_val)))\n",
    "\n",
    "# Feature influence\n",
    "coefficients = pd.Series(best_model.coef_[0], index=X_train.columns).sort_values(ascending=False)\n",
    "print(\"\\n🔍 Logistic Regression Coefficients:\")\n",
    "display(coefficients)\n"
   ]
  },
  {
   "cell_type": "code",
   "execution_count": null,
   "id": "7ca63812-89fa-4513-8b50-c156f2191491",
   "metadata": {},
   "outputs": [],
   "source": []
  },
  {
   "cell_type": "code",
   "execution_count": 66,
   "id": "dd1d3c9f-48cf-4e6a-ac4c-efaeb1ebe9c7",
   "metadata": {},
   "outputs": [],
   "source": [
    "# model 3: peformance-based \n",
    "# Generate Predictions and Probabilities\n",
    "# Predict on test set\n",
    "y_pred_test = best_model.predict(X_test)\n",
    "y_proba_test = best_model.predict_proba(X_test)[:, 1]\n"
   ]
  },
  {
   "cell_type": "code",
   "execution_count": null,
   "id": "c43f252a-1359-475b-874b-2c0602f1e4b9",
   "metadata": {},
   "outputs": [],
   "source": []
  },
  {
   "cell_type": "code",
   "execution_count": 67,
   "id": "c120f5dc-100a-416b-acb2-2fc1e3b370ce",
   "metadata": {},
   "outputs": [
    {
     "name": "stdout",
     "output_type": "stream",
     "text": [
      "📅 Final Test Set (2024) Evaluation:\n",
      "              precision    recall  f1-score   support\n",
      "\n",
      "           0       0.95      0.80      0.87      1734\n",
      "           1       0.49      0.81      0.61       403\n",
      "\n",
      "    accuracy                           0.80      2137\n",
      "   macro avg       0.72      0.81      0.74      2137\n",
      "weighted avg       0.86      0.80      0.82      2137\n",
      "\n",
      "📈 ROC AUC (2024): 0.892\n"
     ]
    }
   ],
   "source": [
    "# model 3: peformance-based \n",
    "# Classification Report and AUC\n",
    "\n",
    "print(\"📅 Final Test Set (2024) Evaluation:\")\n",
    "print(classification_report(y_test, y_pred_test))\n",
    "\n",
    "# AUC\n",
    "auc_test = roc_auc_score(y_test, y_proba_test)\n",
    "print(f\"📈 ROC AUC (2024): {auc_test:.3f}\")\n"
   ]
  },
  {
   "cell_type": "code",
   "execution_count": null,
   "id": "b7060b72-ed54-44c1-9994-5d7fcd03c6bf",
   "metadata": {},
   "outputs": [],
   "source": []
  },
  {
   "cell_type": "code",
   "execution_count": 68,
   "id": "2c16081c-ab73-451b-aaa1-651fd7bdf74d",
   "metadata": {},
   "outputs": [
    {
     "data": {
      "image/png": "[encoded data removed]",
      "text/plain": [
       "<Figure size 800x600 with 1 Axes>"
      ]
     },
     "metadata": {},
     "output_type": "display_data"
    }
   ],
   "source": [
    "# model 3: peformance-based \n",
    "#  Plot ROC Curve\n",
    "fpr, tpr, _ = roc_curve(y_test, y_proba_test)\n",
    "plt.figure(figsize=(8, 6))\n",
    "plt.plot(fpr, tpr, label=f\"AUC = {auc_test:.3f}\")\n",
    "plt.plot([0, 1], [0, 1], 'k--')\n",
    "plt.xlabel(\"False Positive Rate\")\n",
    "plt.ylabel(\"True Positive Rate\")\n",
    "plt.title(\"ROC Curve (2024 Test Set)\")\n",
    "plt.legend()\n",
    "plt.grid(True)\n",
    "plt.tight_layout()\n",
    "plt.show()\n"
   ]
  },
  {
   "cell_type": "code",
   "execution_count": null,
   "id": "6ccf9507-4f77-4847-8317-289f13cc0b67",
   "metadata": {},
   "outputs": [],
   "source": [
    "### End: performance-based logistic regression classifier models ###"
   ]
  },
  {
   "cell_type": "code",
   "execution_count": null,
   "id": "7f864455-75ad-409c-85a1-31f02b550119",
   "metadata": {},
   "outputs": [],
   "source": []
  },
  {
   "cell_type": "code",
   "execution_count": null,
   "id": "f37ae620-8f6f-4b49-90c1-656b824d3630",
   "metadata": {},
   "outputs": [],
   "source": [
    "### Begin: Random Forest Modeling ###"
   ]
  },
  {
   "cell_type": "code",
   "execution_count": null,
   "id": "3741fcc7-b3fa-483b-8a2f-50ed9341f8ea",
   "metadata": {},
   "outputs": [],
   "source": []
  },
  {
   "cell_type": "code",
   "execution_count": null,
   "id": "5e7f62f0-610b-43a6-85a5-16491d35b954",
   "metadata": {},
   "outputs": [],
   "source": []
  },
  {
   "cell_type": "code",
   "execution_count": null,
   "id": "a1cd7a39-698a-4841-83e4-03213eddb1a3",
   "metadata": {},
   "outputs": [],
   "source": []
  },
  {
   "cell_type": "code",
   "execution_count": null,
   "id": "b9d19608-2ac8-4306-a4c9-d45b7fc50532",
   "metadata": {},
   "outputs": [],
   "source": [
    "### End: Random Forest Modeling ###"
   ]
  }
 ],
 "metadata": {
  "kernelspec": {
   "display_name": "Python [conda env:base] *",
   "language": "python",
   "name": "conda-base-py"
  },
  "language_info": {
   "codemirror_mode": {
    "name": "ipython",
    "version": 3
   },
   "file_extension": ".py",
   "mimetype": "text/x-python",
   "name": "python",
   "nbconvert_exporter": "python",
   "pygments_lexer": "ipython3",
   "version": "3.11.7"
  }
 },
 "nbformat": 4,
 "nbformat_minor": 5
}
